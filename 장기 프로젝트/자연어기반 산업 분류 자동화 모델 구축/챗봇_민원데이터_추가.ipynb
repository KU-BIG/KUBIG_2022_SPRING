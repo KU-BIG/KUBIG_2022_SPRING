{
  "nbformat": 4,
  "nbformat_minor": 0,
  "metadata": {
    "colab": {
      "name": "챗봇_민원데이터 추가.ipynb",
      "provenance": [],
      "collapsed_sections": [],
      "toc_visible": true
    },
    "kernelspec": {
      "name": "python3",
      "display_name": "Python 3"
    },
    "language_info": {
      "name": "python"
    }
  },
  "cells": [
    {
      "cell_type": "code",
      "source": [
        "from google.colab import drive\n",
        "drive.mount('/content/drive')"
      ],
      "metadata": {
        "colab": {
          "base_uri": "https://localhost:8080/"
        },
        "id": "9K70qH2680Ms",
        "outputId": "b039740e-5622-4ba6-fe3f-3bad082e305b"
      },
      "execution_count": null,
      "outputs": [
        {
          "output_type": "stream",
          "name": "stdout",
          "text": [
            "Drive already mounted at /content/drive; to attempt to forcibly remount, call drive.mount(\"/content/drive\", force_remount=True).\n"
          ]
        }
      ]
    },
    {
      "cell_type": "code",
      "source": [
        "import csv\n",
        "import pandas as pd\n",
        "\n",
        "chat_data1=pd.read_csv('/content/drive/MyDrive/ChatbotData.csv', encoding='utf-8')\n",
        "chat_data1.shape"
      ],
      "metadata": {
        "colab": {
          "base_uri": "https://localhost:8080/"
        },
        "id": "Q9NFAeBt_yRF",
        "outputId": "2cfd8087-5e92-481f-a167-a316278ca192"
      },
      "execution_count": null,
      "outputs": [
        {
          "output_type": "execute_result",
          "data": {
            "text/plain": [
              "(11823, 3)"
            ]
          },
          "metadata": {},
          "execution_count": 13
        }
      ]
    },
    {
      "cell_type": "code",
      "source": [
        "chat_data2=pd.read_excel('/content/drive/MyDrive/자연어 분류/여권 최종본(0416).xlsx')\n",
        "chat_data2.shape"
      ],
      "metadata": {
        "colab": {
          "base_uri": "https://localhost:8080/"
        },
        "outputId": "d8d14df5-6961-4d98-b5ce-7121ccd54fbe",
        "id": "bMuuO8-vcCwW"
      },
      "execution_count": null,
      "outputs": [
        {
          "output_type": "execute_result",
          "data": {
            "text/plain": [
              "(403, 11)"
            ]
          },
          "metadata": {},
          "execution_count": 14
        }
      ]
    },
    {
      "cell_type": "code",
      "source": [
        "chat_data1.head()"
      ],
      "metadata": {
        "colab": {
          "base_uri": "https://localhost:8080/",
          "height": 206
        },
        "id": "tkDvUTAgBcAj",
        "outputId": "810d7536-31ba-4624-e8f9-7ed0cf46b903"
      },
      "execution_count": null,
      "outputs": [
        {
          "output_type": "execute_result",
          "data": {
            "text/plain": [
              "                 Q            A  label\n",
              "0           12시 땡!   하루가 또 가네요.      0\n",
              "1      1지망 학교 떨어졌어    위로해 드립니다.      0\n",
              "2     3박4일 놀러가고 싶다  여행은 언제나 좋죠.      0\n",
              "3  3박4일 정도 놀러가고 싶다  여행은 언제나 좋죠.      0\n",
              "4          PPL 심하네   눈살이 찌푸려지죠.      0"
            ],
            "text/html": [
              "\n",
              "  <div id=\"df-592caf02-bac0-48a3-b649-befcf1af41c7\">\n",
              "    <div class=\"colab-df-container\">\n",
              "      <div>\n",
              "<style scoped>\n",
              "    .dataframe tbody tr th:only-of-type {\n",
              "        vertical-align: middle;\n",
              "    }\n",
              "\n",
              "    .dataframe tbody tr th {\n",
              "        vertical-align: top;\n",
              "    }\n",
              "\n",
              "    .dataframe thead th {\n",
              "        text-align: right;\n",
              "    }\n",
              "</style>\n",
              "<table border=\"1\" class=\"dataframe\">\n",
              "  <thead>\n",
              "    <tr style=\"text-align: right;\">\n",
              "      <th></th>\n",
              "      <th>Q</th>\n",
              "      <th>A</th>\n",
              "      <th>label</th>\n",
              "    </tr>\n",
              "  </thead>\n",
              "  <tbody>\n",
              "    <tr>\n",
              "      <th>0</th>\n",
              "      <td>12시 땡!</td>\n",
              "      <td>하루가 또 가네요.</td>\n",
              "      <td>0</td>\n",
              "    </tr>\n",
              "    <tr>\n",
              "      <th>1</th>\n",
              "      <td>1지망 학교 떨어졌어</td>\n",
              "      <td>위로해 드립니다.</td>\n",
              "      <td>0</td>\n",
              "    </tr>\n",
              "    <tr>\n",
              "      <th>2</th>\n",
              "      <td>3박4일 놀러가고 싶다</td>\n",
              "      <td>여행은 언제나 좋죠.</td>\n",
              "      <td>0</td>\n",
              "    </tr>\n",
              "    <tr>\n",
              "      <th>3</th>\n",
              "      <td>3박4일 정도 놀러가고 싶다</td>\n",
              "      <td>여행은 언제나 좋죠.</td>\n",
              "      <td>0</td>\n",
              "    </tr>\n",
              "    <tr>\n",
              "      <th>4</th>\n",
              "      <td>PPL 심하네</td>\n",
              "      <td>눈살이 찌푸려지죠.</td>\n",
              "      <td>0</td>\n",
              "    </tr>\n",
              "  </tbody>\n",
              "</table>\n",
              "</div>\n",
              "      <button class=\"colab-df-convert\" onclick=\"convertToInteractive('df-592caf02-bac0-48a3-b649-befcf1af41c7')\"\n",
              "              title=\"Convert this dataframe to an interactive table.\"\n",
              "              style=\"display:none;\">\n",
              "        \n",
              "  <svg xmlns=\"http://www.w3.org/2000/svg\" height=\"24px\"viewBox=\"0 0 24 24\"\n",
              "       width=\"24px\">\n",
              "    <path d=\"M0 0h24v24H0V0z\" fill=\"none\"/>\n",
              "    <path d=\"M18.56 5.44l.94 2.06.94-2.06 2.06-.94-2.06-.94-.94-2.06-.94 2.06-2.06.94zm-11 1L8.5 8.5l.94-2.06 2.06-.94-2.06-.94L8.5 2.5l-.94 2.06-2.06.94zm10 10l.94 2.06.94-2.06 2.06-.94-2.06-.94-.94-2.06-.94 2.06-2.06.94z\"/><path d=\"M17.41 7.96l-1.37-1.37c-.4-.4-.92-.59-1.43-.59-.52 0-1.04.2-1.43.59L10.3 9.45l-7.72 7.72c-.78.78-.78 2.05 0 2.83L4 21.41c.39.39.9.59 1.41.59.51 0 1.02-.2 1.41-.59l7.78-7.78 2.81-2.81c.8-.78.8-2.07 0-2.86zM5.41 20L4 18.59l7.72-7.72 1.47 1.35L5.41 20z\"/>\n",
              "  </svg>\n",
              "      </button>\n",
              "      \n",
              "  <style>\n",
              "    .colab-df-container {\n",
              "      display:flex;\n",
              "      flex-wrap:wrap;\n",
              "      gap: 12px;\n",
              "    }\n",
              "\n",
              "    .colab-df-convert {\n",
              "      background-color: #E8F0FE;\n",
              "      border: none;\n",
              "      border-radius: 50%;\n",
              "      cursor: pointer;\n",
              "      display: none;\n",
              "      fill: #1967D2;\n",
              "      height: 32px;\n",
              "      padding: 0 0 0 0;\n",
              "      width: 32px;\n",
              "    }\n",
              "\n",
              "    .colab-df-convert:hover {\n",
              "      background-color: #E2EBFA;\n",
              "      box-shadow: 0px 1px 2px rgba(60, 64, 67, 0.3), 0px 1px 3px 1px rgba(60, 64, 67, 0.15);\n",
              "      fill: #174EA6;\n",
              "    }\n",
              "\n",
              "    [theme=dark] .colab-df-convert {\n",
              "      background-color: #3B4455;\n",
              "      fill: #D2E3FC;\n",
              "    }\n",
              "\n",
              "    [theme=dark] .colab-df-convert:hover {\n",
              "      background-color: #434B5C;\n",
              "      box-shadow: 0px 1px 3px 1px rgba(0, 0, 0, 0.15);\n",
              "      filter: drop-shadow(0px 1px 2px rgba(0, 0, 0, 0.3));\n",
              "      fill: #FFFFFF;\n",
              "    }\n",
              "  </style>\n",
              "\n",
              "      <script>\n",
              "        const buttonEl =\n",
              "          document.querySelector('#df-592caf02-bac0-48a3-b649-befcf1af41c7 button.colab-df-convert');\n",
              "        buttonEl.style.display =\n",
              "          google.colab.kernel.accessAllowed ? 'block' : 'none';\n",
              "\n",
              "        async function convertToInteractive(key) {\n",
              "          const element = document.querySelector('#df-592caf02-bac0-48a3-b649-befcf1af41c7');\n",
              "          const dataTable =\n",
              "            await google.colab.kernel.invokeFunction('convertToInteractive',\n",
              "                                                     [key], {});\n",
              "          if (!dataTable) return;\n",
              "\n",
              "          const docLinkHtml = 'Like what you see? Visit the ' +\n",
              "            '<a target=\"_blank\" href=https://colab.research.google.com/notebooks/data_table.ipynb>data table notebook</a>'\n",
              "            + ' to learn more about interactive tables.';\n",
              "          element.innerHTML = '';\n",
              "          dataTable['output_type'] = 'display_data';\n",
              "          await google.colab.output.renderOutput(dataTable, element);\n",
              "          const docLink = document.createElement('div');\n",
              "          docLink.innerHTML = docLinkHtml;\n",
              "          element.appendChild(docLink);\n",
              "        }\n",
              "      </script>\n",
              "    </div>\n",
              "  </div>\n",
              "  "
            ]
          },
          "metadata": {},
          "execution_count": 15
        }
      ]
    },
    {
      "cell_type": "code",
      "source": [
        "chat_data1 = chat_data1.drop('label', axis = 1)"
      ],
      "metadata": {
        "id": "4nsn6MVWd_YY"
      },
      "execution_count": null,
      "outputs": []
    },
    {
      "cell_type": "code",
      "source": [
        "chat_data2.head()"
      ],
      "metadata": {
        "colab": {
          "base_uri": "https://localhost:8080/",
          "height": 458
        },
        "outputId": "879219a6-d5cf-49b6-b8d5-2bab25bdccfb",
        "id": "7D8XfcKrcsrU"
      },
      "execution_count": null,
      "outputs": [
        {
          "output_type": "execute_result",
          "data": {
            "text/plain": [
              "   도메인   화자  intent subintent  \\\n",
              "0   43  민원인  갱신/재발급       NaN   \n",
              "1   43  민원인  갱신/재발급       NaN   \n",
              "2   43  민원인  갱신/재발급       NaN   \n",
              "3   43  민원인  갱신/재발급       NaN   \n",
              "4   43  민원인  갱신/재발급       NaN   \n",
              "\n",
              "                                            question  \\\n",
              "0                        여권 기한이 다돼가지고 새로 재발급 해야되가지고요   \n",
              "1  여권 시간이 좀 돼 가지고 뭐 재 발급인가 아니면 뭐 다시 해야 될 낀데 어떻게 하...   \n",
              "2                                     여권연장 발급할라 카는데요   \n",
              "3                          여권을 갱신하고 싶은데 거 어디로 가만 되지요   \n",
              "4                                       갱신이란 건 없습니까?   \n",
              "\n",
              "                                              answer      q_entity  \\\n",
              "0  아 그러세요 선생님 그런 경우는 신규 발급하고 동일하구요 저희 머 시청이나 아니면 ...    여권 기한, 재발급   \n",
              "1               아 여권 기간이 끝나셨으면은요 여권을 이제 새로 만드셔야 되는데요  여권, 시간, 재 발급   \n",
              "2  아 그러시다면 요즘에는 예전처럼 여권 갱신이라는 의미가 없으시고 여권신규발급과 동일...    여권, 연장, 발급   \n",
              "3  지금 대구에서는 대구시청을 방문하셔도 되고 중구청을 제외한 가까운 구 군청에서도 동...        여권, 갱신   \n",
              "4                                  예 그렇습니다. 신규 발급인데요            갱신   \n",
              "\n",
              "                              a_entity  \\\n",
              "0                신규발급, 시청, 중구청, 제외, 구청   \n",
              "1                               여권, 기간   \n",
              "2             여권, 갱신, 여권, 신규발급, 동일, 접수   \n",
              "3  대구, 대구시청, 방문, 중구청, 제외, 구 군청, 여권, 업무   \n",
              "4                                신규 발급   \n",
              "\n",
              "                                               용어사전 지식베이스  Unnamed: 10  \n",
              "0             여권 기한/유효기간, 재발급/재발급, 신규발급/신규발급, 제외/제한   NaN           13  \n",
              "1                                   재 발급/재발급, 기간/기한   NaN           13  \n",
              "2           연장/재발급, 발급/발급, 갱신/재발급, 신규발급/신규발급, 접수/접수   NaN           13  \n",
              "3  갱신/재발급, 대구시청/대구시청, 방문/방문, 제외/제한, 구 군청/구군청, 업무/접수   NaN           13  \n",
              "4                                            갱신/재발급   NaN           13  "
            ],
            "text/html": [
              "\n",
              "  <div id=\"df-bffda544-7e7e-405a-be2a-eca87c5f5dc9\">\n",
              "    <div class=\"colab-df-container\">\n",
              "      <div>\n",
              "<style scoped>\n",
              "    .dataframe tbody tr th:only-of-type {\n",
              "        vertical-align: middle;\n",
              "    }\n",
              "\n",
              "    .dataframe tbody tr th {\n",
              "        vertical-align: top;\n",
              "    }\n",
              "\n",
              "    .dataframe thead th {\n",
              "        text-align: right;\n",
              "    }\n",
              "</style>\n",
              "<table border=\"1\" class=\"dataframe\">\n",
              "  <thead>\n",
              "    <tr style=\"text-align: right;\">\n",
              "      <th></th>\n",
              "      <th>도메인</th>\n",
              "      <th>화자</th>\n",
              "      <th>intent</th>\n",
              "      <th>subintent</th>\n",
              "      <th>question</th>\n",
              "      <th>answer</th>\n",
              "      <th>q_entity</th>\n",
              "      <th>a_entity</th>\n",
              "      <th>용어사전</th>\n",
              "      <th>지식베이스</th>\n",
              "      <th>Unnamed: 10</th>\n",
              "    </tr>\n",
              "  </thead>\n",
              "  <tbody>\n",
              "    <tr>\n",
              "      <th>0</th>\n",
              "      <td>43</td>\n",
              "      <td>민원인</td>\n",
              "      <td>갱신/재발급</td>\n",
              "      <td>NaN</td>\n",
              "      <td>여권 기한이 다돼가지고 새로 재발급 해야되가지고요</td>\n",
              "      <td>아 그러세요 선생님 그런 경우는 신규 발급하고 동일하구요 저희 머 시청이나 아니면 ...</td>\n",
              "      <td>여권 기한, 재발급</td>\n",
              "      <td>신규발급, 시청, 중구청, 제외, 구청</td>\n",
              "      <td>여권 기한/유효기간, 재발급/재발급, 신규발급/신규발급, 제외/제한</td>\n",
              "      <td>NaN</td>\n",
              "      <td>13</td>\n",
              "    </tr>\n",
              "    <tr>\n",
              "      <th>1</th>\n",
              "      <td>43</td>\n",
              "      <td>민원인</td>\n",
              "      <td>갱신/재발급</td>\n",
              "      <td>NaN</td>\n",
              "      <td>여권 시간이 좀 돼 가지고 뭐 재 발급인가 아니면 뭐 다시 해야 될 낀데 어떻게 하...</td>\n",
              "      <td>아 여권 기간이 끝나셨으면은요 여권을 이제 새로 만드셔야 되는데요</td>\n",
              "      <td>여권, 시간, 재 발급</td>\n",
              "      <td>여권, 기간</td>\n",
              "      <td>재 발급/재발급, 기간/기한</td>\n",
              "      <td>NaN</td>\n",
              "      <td>13</td>\n",
              "    </tr>\n",
              "    <tr>\n",
              "      <th>2</th>\n",
              "      <td>43</td>\n",
              "      <td>민원인</td>\n",
              "      <td>갱신/재발급</td>\n",
              "      <td>NaN</td>\n",
              "      <td>여권연장 발급할라 카는데요</td>\n",
              "      <td>아 그러시다면 요즘에는 예전처럼 여권 갱신이라는 의미가 없으시고 여권신규발급과 동일...</td>\n",
              "      <td>여권, 연장, 발급</td>\n",
              "      <td>여권, 갱신, 여권, 신규발급, 동일, 접수</td>\n",
              "      <td>연장/재발급, 발급/발급, 갱신/재발급, 신규발급/신규발급, 접수/접수</td>\n",
              "      <td>NaN</td>\n",
              "      <td>13</td>\n",
              "    </tr>\n",
              "    <tr>\n",
              "      <th>3</th>\n",
              "      <td>43</td>\n",
              "      <td>민원인</td>\n",
              "      <td>갱신/재발급</td>\n",
              "      <td>NaN</td>\n",
              "      <td>여권을 갱신하고 싶은데 거 어디로 가만 되지요</td>\n",
              "      <td>지금 대구에서는 대구시청을 방문하셔도 되고 중구청을 제외한 가까운 구 군청에서도 동...</td>\n",
              "      <td>여권, 갱신</td>\n",
              "      <td>대구, 대구시청, 방문, 중구청, 제외, 구 군청, 여권, 업무</td>\n",
              "      <td>갱신/재발급, 대구시청/대구시청, 방문/방문, 제외/제한, 구 군청/구군청, 업무/접수</td>\n",
              "      <td>NaN</td>\n",
              "      <td>13</td>\n",
              "    </tr>\n",
              "    <tr>\n",
              "      <th>4</th>\n",
              "      <td>43</td>\n",
              "      <td>민원인</td>\n",
              "      <td>갱신/재발급</td>\n",
              "      <td>NaN</td>\n",
              "      <td>갱신이란 건 없습니까?</td>\n",
              "      <td>예 그렇습니다. 신규 발급인데요</td>\n",
              "      <td>갱신</td>\n",
              "      <td>신규 발급</td>\n",
              "      <td>갱신/재발급</td>\n",
              "      <td>NaN</td>\n",
              "      <td>13</td>\n",
              "    </tr>\n",
              "  </tbody>\n",
              "</table>\n",
              "</div>\n",
              "      <button class=\"colab-df-convert\" onclick=\"convertToInteractive('df-bffda544-7e7e-405a-be2a-eca87c5f5dc9')\"\n",
              "              title=\"Convert this dataframe to an interactive table.\"\n",
              "              style=\"display:none;\">\n",
              "        \n",
              "  <svg xmlns=\"http://www.w3.org/2000/svg\" height=\"24px\"viewBox=\"0 0 24 24\"\n",
              "       width=\"24px\">\n",
              "    <path d=\"M0 0h24v24H0V0z\" fill=\"none\"/>\n",
              "    <path d=\"M18.56 5.44l.94 2.06.94-2.06 2.06-.94-2.06-.94-.94-2.06-.94 2.06-2.06.94zm-11 1L8.5 8.5l.94-2.06 2.06-.94-2.06-.94L8.5 2.5l-.94 2.06-2.06.94zm10 10l.94 2.06.94-2.06 2.06-.94-2.06-.94-.94-2.06-.94 2.06-2.06.94z\"/><path d=\"M17.41 7.96l-1.37-1.37c-.4-.4-.92-.59-1.43-.59-.52 0-1.04.2-1.43.59L10.3 9.45l-7.72 7.72c-.78.78-.78 2.05 0 2.83L4 21.41c.39.39.9.59 1.41.59.51 0 1.02-.2 1.41-.59l7.78-7.78 2.81-2.81c.8-.78.8-2.07 0-2.86zM5.41 20L4 18.59l7.72-7.72 1.47 1.35L5.41 20z\"/>\n",
              "  </svg>\n",
              "      </button>\n",
              "      \n",
              "  <style>\n",
              "    .colab-df-container {\n",
              "      display:flex;\n",
              "      flex-wrap:wrap;\n",
              "      gap: 12px;\n",
              "    }\n",
              "\n",
              "    .colab-df-convert {\n",
              "      background-color: #E8F0FE;\n",
              "      border: none;\n",
              "      border-radius: 50%;\n",
              "      cursor: pointer;\n",
              "      display: none;\n",
              "      fill: #1967D2;\n",
              "      height: 32px;\n",
              "      padding: 0 0 0 0;\n",
              "      width: 32px;\n",
              "    }\n",
              "\n",
              "    .colab-df-convert:hover {\n",
              "      background-color: #E2EBFA;\n",
              "      box-shadow: 0px 1px 2px rgba(60, 64, 67, 0.3), 0px 1px 3px 1px rgba(60, 64, 67, 0.15);\n",
              "      fill: #174EA6;\n",
              "    }\n",
              "\n",
              "    [theme=dark] .colab-df-convert {\n",
              "      background-color: #3B4455;\n",
              "      fill: #D2E3FC;\n",
              "    }\n",
              "\n",
              "    [theme=dark] .colab-df-convert:hover {\n",
              "      background-color: #434B5C;\n",
              "      box-shadow: 0px 1px 3px 1px rgba(0, 0, 0, 0.15);\n",
              "      filter: drop-shadow(0px 1px 2px rgba(0, 0, 0, 0.3));\n",
              "      fill: #FFFFFF;\n",
              "    }\n",
              "  </style>\n",
              "\n",
              "      <script>\n",
              "        const buttonEl =\n",
              "          document.querySelector('#df-bffda544-7e7e-405a-be2a-eca87c5f5dc9 button.colab-df-convert');\n",
              "        buttonEl.style.display =\n",
              "          google.colab.kernel.accessAllowed ? 'block' : 'none';\n",
              "\n",
              "        async function convertToInteractive(key) {\n",
              "          const element = document.querySelector('#df-bffda544-7e7e-405a-be2a-eca87c5f5dc9');\n",
              "          const dataTable =\n",
              "            await google.colab.kernel.invokeFunction('convertToInteractive',\n",
              "                                                     [key], {});\n",
              "          if (!dataTable) return;\n",
              "\n",
              "          const docLinkHtml = 'Like what you see? Visit the ' +\n",
              "            '<a target=\"_blank\" href=https://colab.research.google.com/notebooks/data_table.ipynb>data table notebook</a>'\n",
              "            + ' to learn more about interactive tables.';\n",
              "          element.innerHTML = '';\n",
              "          dataTable['output_type'] = 'display_data';\n",
              "          await google.colab.output.renderOutput(dataTable, element);\n",
              "          const docLink = document.createElement('div');\n",
              "          docLink.innerHTML = docLinkHtml;\n",
              "          element.appendChild(docLink);\n",
              "        }\n",
              "      </script>\n",
              "    </div>\n",
              "  </div>\n",
              "  "
            ]
          },
          "metadata": {},
          "execution_count": 18
        }
      ]
    },
    {
      "cell_type": "code",
      "source": [
        "chat_data2 = chat_data2.loc[:,['question', 'answer']]\n",
        "chat_data2.head()"
      ],
      "metadata": {
        "colab": {
          "base_uri": "https://localhost:8080/",
          "height": 206
        },
        "id": "wht6urL6cr5U",
        "outputId": "5b6c4c41-f2c0-4f46-e2e1-d60a65a31d01"
      },
      "execution_count": null,
      "outputs": [
        {
          "output_type": "execute_result",
          "data": {
            "text/plain": [
              "                                            question  \\\n",
              "0                        여권 기한이 다돼가지고 새로 재발급 해야되가지고요   \n",
              "1  여권 시간이 좀 돼 가지고 뭐 재 발급인가 아니면 뭐 다시 해야 될 낀데 어떻게 하...   \n",
              "2                                     여권연장 발급할라 카는데요   \n",
              "3                          여권을 갱신하고 싶은데 거 어디로 가만 되지요   \n",
              "4                                       갱신이란 건 없습니까?   \n",
              "\n",
              "                                              answer  \n",
              "0  아 그러세요 선생님 그런 경우는 신규 발급하고 동일하구요 저희 머 시청이나 아니면 ...  \n",
              "1               아 여권 기간이 끝나셨으면은요 여권을 이제 새로 만드셔야 되는데요  \n",
              "2  아 그러시다면 요즘에는 예전처럼 여권 갱신이라는 의미가 없으시고 여권신규발급과 동일...  \n",
              "3  지금 대구에서는 대구시청을 방문하셔도 되고 중구청을 제외한 가까운 구 군청에서도 동...  \n",
              "4                                  예 그렇습니다. 신규 발급인데요  "
            ],
            "text/html": [
              "\n",
              "  <div id=\"df-d7ac7ac9-c965-4f0c-9512-332de8f6348a\">\n",
              "    <div class=\"colab-df-container\">\n",
              "      <div>\n",
              "<style scoped>\n",
              "    .dataframe tbody tr th:only-of-type {\n",
              "        vertical-align: middle;\n",
              "    }\n",
              "\n",
              "    .dataframe tbody tr th {\n",
              "        vertical-align: top;\n",
              "    }\n",
              "\n",
              "    .dataframe thead th {\n",
              "        text-align: right;\n",
              "    }\n",
              "</style>\n",
              "<table border=\"1\" class=\"dataframe\">\n",
              "  <thead>\n",
              "    <tr style=\"text-align: right;\">\n",
              "      <th></th>\n",
              "      <th>question</th>\n",
              "      <th>answer</th>\n",
              "    </tr>\n",
              "  </thead>\n",
              "  <tbody>\n",
              "    <tr>\n",
              "      <th>0</th>\n",
              "      <td>여권 기한이 다돼가지고 새로 재발급 해야되가지고요</td>\n",
              "      <td>아 그러세요 선생님 그런 경우는 신규 발급하고 동일하구요 저희 머 시청이나 아니면 ...</td>\n",
              "    </tr>\n",
              "    <tr>\n",
              "      <th>1</th>\n",
              "      <td>여권 시간이 좀 돼 가지고 뭐 재 발급인가 아니면 뭐 다시 해야 될 낀데 어떻게 하...</td>\n",
              "      <td>아 여권 기간이 끝나셨으면은요 여권을 이제 새로 만드셔야 되는데요</td>\n",
              "    </tr>\n",
              "    <tr>\n",
              "      <th>2</th>\n",
              "      <td>여권연장 발급할라 카는데요</td>\n",
              "      <td>아 그러시다면 요즘에는 예전처럼 여권 갱신이라는 의미가 없으시고 여권신규발급과 동일...</td>\n",
              "    </tr>\n",
              "    <tr>\n",
              "      <th>3</th>\n",
              "      <td>여권을 갱신하고 싶은데 거 어디로 가만 되지요</td>\n",
              "      <td>지금 대구에서는 대구시청을 방문하셔도 되고 중구청을 제외한 가까운 구 군청에서도 동...</td>\n",
              "    </tr>\n",
              "    <tr>\n",
              "      <th>4</th>\n",
              "      <td>갱신이란 건 없습니까?</td>\n",
              "      <td>예 그렇습니다. 신규 발급인데요</td>\n",
              "    </tr>\n",
              "  </tbody>\n",
              "</table>\n",
              "</div>\n",
              "      <button class=\"colab-df-convert\" onclick=\"convertToInteractive('df-d7ac7ac9-c965-4f0c-9512-332de8f6348a')\"\n",
              "              title=\"Convert this dataframe to an interactive table.\"\n",
              "              style=\"display:none;\">\n",
              "        \n",
              "  <svg xmlns=\"http://www.w3.org/2000/svg\" height=\"24px\"viewBox=\"0 0 24 24\"\n",
              "       width=\"24px\">\n",
              "    <path d=\"M0 0h24v24H0V0z\" fill=\"none\"/>\n",
              "    <path d=\"M18.56 5.44l.94 2.06.94-2.06 2.06-.94-2.06-.94-.94-2.06-.94 2.06-2.06.94zm-11 1L8.5 8.5l.94-2.06 2.06-.94-2.06-.94L8.5 2.5l-.94 2.06-2.06.94zm10 10l.94 2.06.94-2.06 2.06-.94-2.06-.94-.94-2.06-.94 2.06-2.06.94z\"/><path d=\"M17.41 7.96l-1.37-1.37c-.4-.4-.92-.59-1.43-.59-.52 0-1.04.2-1.43.59L10.3 9.45l-7.72 7.72c-.78.78-.78 2.05 0 2.83L4 21.41c.39.39.9.59 1.41.59.51 0 1.02-.2 1.41-.59l7.78-7.78 2.81-2.81c.8-.78.8-2.07 0-2.86zM5.41 20L4 18.59l7.72-7.72 1.47 1.35L5.41 20z\"/>\n",
              "  </svg>\n",
              "      </button>\n",
              "      \n",
              "  <style>\n",
              "    .colab-df-container {\n",
              "      display:flex;\n",
              "      flex-wrap:wrap;\n",
              "      gap: 12px;\n",
              "    }\n",
              "\n",
              "    .colab-df-convert {\n",
              "      background-color: #E8F0FE;\n",
              "      border: none;\n",
              "      border-radius: 50%;\n",
              "      cursor: pointer;\n",
              "      display: none;\n",
              "      fill: #1967D2;\n",
              "      height: 32px;\n",
              "      padding: 0 0 0 0;\n",
              "      width: 32px;\n",
              "    }\n",
              "\n",
              "    .colab-df-convert:hover {\n",
              "      background-color: #E2EBFA;\n",
              "      box-shadow: 0px 1px 2px rgba(60, 64, 67, 0.3), 0px 1px 3px 1px rgba(60, 64, 67, 0.15);\n",
              "      fill: #174EA6;\n",
              "    }\n",
              "\n",
              "    [theme=dark] .colab-df-convert {\n",
              "      background-color: #3B4455;\n",
              "      fill: #D2E3FC;\n",
              "    }\n",
              "\n",
              "    [theme=dark] .colab-df-convert:hover {\n",
              "      background-color: #434B5C;\n",
              "      box-shadow: 0px 1px 3px 1px rgba(0, 0, 0, 0.15);\n",
              "      filter: drop-shadow(0px 1px 2px rgba(0, 0, 0, 0.3));\n",
              "      fill: #FFFFFF;\n",
              "    }\n",
              "  </style>\n",
              "\n",
              "      <script>\n",
              "        const buttonEl =\n",
              "          document.querySelector('#df-d7ac7ac9-c965-4f0c-9512-332de8f6348a button.colab-df-convert');\n",
              "        buttonEl.style.display =\n",
              "          google.colab.kernel.accessAllowed ? 'block' : 'none';\n",
              "\n",
              "        async function convertToInteractive(key) {\n",
              "          const element = document.querySelector('#df-d7ac7ac9-c965-4f0c-9512-332de8f6348a');\n",
              "          const dataTable =\n",
              "            await google.colab.kernel.invokeFunction('convertToInteractive',\n",
              "                                                     [key], {});\n",
              "          if (!dataTable) return;\n",
              "\n",
              "          const docLinkHtml = 'Like what you see? Visit the ' +\n",
              "            '<a target=\"_blank\" href=https://colab.research.google.com/notebooks/data_table.ipynb>data table notebook</a>'\n",
              "            + ' to learn more about interactive tables.';\n",
              "          element.innerHTML = '';\n",
              "          dataTable['output_type'] = 'display_data';\n",
              "          await google.colab.output.renderOutput(dataTable, element);\n",
              "          const docLink = document.createElement('div');\n",
              "          docLink.innerHTML = docLinkHtml;\n",
              "          element.appendChild(docLink);\n",
              "        }\n",
              "      </script>\n",
              "    </div>\n",
              "  </div>\n",
              "  "
            ]
          },
          "metadata": {},
          "execution_count": 19
        }
      ]
    },
    {
      "cell_type": "code",
      "source": [
        "chat_data2.columns = ['Q', 'A']"
      ],
      "metadata": {
        "id": "S3mfeIFreb56"
      },
      "execution_count": null,
      "outputs": []
    },
    {
      "cell_type": "code",
      "source": [
        "chat_data2.head()"
      ],
      "metadata": {
        "colab": {
          "base_uri": "https://localhost:8080/",
          "height": 206
        },
        "id": "Lr07IaJXf-Cg",
        "outputId": "3c977e2b-48cb-4c62-b780-070f8b036b0f"
      },
      "execution_count": null,
      "outputs": [
        {
          "output_type": "execute_result",
          "data": {
            "text/plain": [
              "                                                   Q  \\\n",
              "0                        여권 기한이 다돼가지고 새로 재발급 해야되가지고요   \n",
              "1  여권 시간이 좀 돼 가지고 뭐 재 발급인가 아니면 뭐 다시 해야 될 낀데 어떻게 하...   \n",
              "2                                     여권연장 발급할라 카는데요   \n",
              "3                          여권을 갱신하고 싶은데 거 어디로 가만 되지요   \n",
              "4                                       갱신이란 건 없습니까?   \n",
              "\n",
              "                                                   A  \n",
              "0  아 그러세요 선생님 그런 경우는 신규 발급하고 동일하구요 저희 머 시청이나 아니면 ...  \n",
              "1               아 여권 기간이 끝나셨으면은요 여권을 이제 새로 만드셔야 되는데요  \n",
              "2  아 그러시다면 요즘에는 예전처럼 여권 갱신이라는 의미가 없으시고 여권신규발급과 동일...  \n",
              "3  지금 대구에서는 대구시청을 방문하셔도 되고 중구청을 제외한 가까운 구 군청에서도 동...  \n",
              "4                                  예 그렇습니다. 신규 발급인데요  "
            ],
            "text/html": [
              "\n",
              "  <div id=\"df-2c521033-1ff9-443a-82ac-bf16295a1eca\">\n",
              "    <div class=\"colab-df-container\">\n",
              "      <div>\n",
              "<style scoped>\n",
              "    .dataframe tbody tr th:only-of-type {\n",
              "        vertical-align: middle;\n",
              "    }\n",
              "\n",
              "    .dataframe tbody tr th {\n",
              "        vertical-align: top;\n",
              "    }\n",
              "\n",
              "    .dataframe thead th {\n",
              "        text-align: right;\n",
              "    }\n",
              "</style>\n",
              "<table border=\"1\" class=\"dataframe\">\n",
              "  <thead>\n",
              "    <tr style=\"text-align: right;\">\n",
              "      <th></th>\n",
              "      <th>Q</th>\n",
              "      <th>A</th>\n",
              "    </tr>\n",
              "  </thead>\n",
              "  <tbody>\n",
              "    <tr>\n",
              "      <th>0</th>\n",
              "      <td>여권 기한이 다돼가지고 새로 재발급 해야되가지고요</td>\n",
              "      <td>아 그러세요 선생님 그런 경우는 신규 발급하고 동일하구요 저희 머 시청이나 아니면 ...</td>\n",
              "    </tr>\n",
              "    <tr>\n",
              "      <th>1</th>\n",
              "      <td>여권 시간이 좀 돼 가지고 뭐 재 발급인가 아니면 뭐 다시 해야 될 낀데 어떻게 하...</td>\n",
              "      <td>아 여권 기간이 끝나셨으면은요 여권을 이제 새로 만드셔야 되는데요</td>\n",
              "    </tr>\n",
              "    <tr>\n",
              "      <th>2</th>\n",
              "      <td>여권연장 발급할라 카는데요</td>\n",
              "      <td>아 그러시다면 요즘에는 예전처럼 여권 갱신이라는 의미가 없으시고 여권신규발급과 동일...</td>\n",
              "    </tr>\n",
              "    <tr>\n",
              "      <th>3</th>\n",
              "      <td>여권을 갱신하고 싶은데 거 어디로 가만 되지요</td>\n",
              "      <td>지금 대구에서는 대구시청을 방문하셔도 되고 중구청을 제외한 가까운 구 군청에서도 동...</td>\n",
              "    </tr>\n",
              "    <tr>\n",
              "      <th>4</th>\n",
              "      <td>갱신이란 건 없습니까?</td>\n",
              "      <td>예 그렇습니다. 신규 발급인데요</td>\n",
              "    </tr>\n",
              "  </tbody>\n",
              "</table>\n",
              "</div>\n",
              "      <button class=\"colab-df-convert\" onclick=\"convertToInteractive('df-2c521033-1ff9-443a-82ac-bf16295a1eca')\"\n",
              "              title=\"Convert this dataframe to an interactive table.\"\n",
              "              style=\"display:none;\">\n",
              "        \n",
              "  <svg xmlns=\"http://www.w3.org/2000/svg\" height=\"24px\"viewBox=\"0 0 24 24\"\n",
              "       width=\"24px\">\n",
              "    <path d=\"M0 0h24v24H0V0z\" fill=\"none\"/>\n",
              "    <path d=\"M18.56 5.44l.94 2.06.94-2.06 2.06-.94-2.06-.94-.94-2.06-.94 2.06-2.06.94zm-11 1L8.5 8.5l.94-2.06 2.06-.94-2.06-.94L8.5 2.5l-.94 2.06-2.06.94zm10 10l.94 2.06.94-2.06 2.06-.94-2.06-.94-.94-2.06-.94 2.06-2.06.94z\"/><path d=\"M17.41 7.96l-1.37-1.37c-.4-.4-.92-.59-1.43-.59-.52 0-1.04.2-1.43.59L10.3 9.45l-7.72 7.72c-.78.78-.78 2.05 0 2.83L4 21.41c.39.39.9.59 1.41.59.51 0 1.02-.2 1.41-.59l7.78-7.78 2.81-2.81c.8-.78.8-2.07 0-2.86zM5.41 20L4 18.59l7.72-7.72 1.47 1.35L5.41 20z\"/>\n",
              "  </svg>\n",
              "      </button>\n",
              "      \n",
              "  <style>\n",
              "    .colab-df-container {\n",
              "      display:flex;\n",
              "      flex-wrap:wrap;\n",
              "      gap: 12px;\n",
              "    }\n",
              "\n",
              "    .colab-df-convert {\n",
              "      background-color: #E8F0FE;\n",
              "      border: none;\n",
              "      border-radius: 50%;\n",
              "      cursor: pointer;\n",
              "      display: none;\n",
              "      fill: #1967D2;\n",
              "      height: 32px;\n",
              "      padding: 0 0 0 0;\n",
              "      width: 32px;\n",
              "    }\n",
              "\n",
              "    .colab-df-convert:hover {\n",
              "      background-color: #E2EBFA;\n",
              "      box-shadow: 0px 1px 2px rgba(60, 64, 67, 0.3), 0px 1px 3px 1px rgba(60, 64, 67, 0.15);\n",
              "      fill: #174EA6;\n",
              "    }\n",
              "\n",
              "    [theme=dark] .colab-df-convert {\n",
              "      background-color: #3B4455;\n",
              "      fill: #D2E3FC;\n",
              "    }\n",
              "\n",
              "    [theme=dark] .colab-df-convert:hover {\n",
              "      background-color: #434B5C;\n",
              "      box-shadow: 0px 1px 3px 1px rgba(0, 0, 0, 0.15);\n",
              "      filter: drop-shadow(0px 1px 2px rgba(0, 0, 0, 0.3));\n",
              "      fill: #FFFFFF;\n",
              "    }\n",
              "  </style>\n",
              "\n",
              "      <script>\n",
              "        const buttonEl =\n",
              "          document.querySelector('#df-2c521033-1ff9-443a-82ac-bf16295a1eca button.colab-df-convert');\n",
              "        buttonEl.style.display =\n",
              "          google.colab.kernel.accessAllowed ? 'block' : 'none';\n",
              "\n",
              "        async function convertToInteractive(key) {\n",
              "          const element = document.querySelector('#df-2c521033-1ff9-443a-82ac-bf16295a1eca');\n",
              "          const dataTable =\n",
              "            await google.colab.kernel.invokeFunction('convertToInteractive',\n",
              "                                                     [key], {});\n",
              "          if (!dataTable) return;\n",
              "\n",
              "          const docLinkHtml = 'Like what you see? Visit the ' +\n",
              "            '<a target=\"_blank\" href=https://colab.research.google.com/notebooks/data_table.ipynb>data table notebook</a>'\n",
              "            + ' to learn more about interactive tables.';\n",
              "          element.innerHTML = '';\n",
              "          dataTable['output_type'] = 'display_data';\n",
              "          await google.colab.output.renderOutput(dataTable, element);\n",
              "          const docLink = document.createElement('div');\n",
              "          docLink.innerHTML = docLinkHtml;\n",
              "          element.appendChild(docLink);\n",
              "        }\n",
              "      </script>\n",
              "    </div>\n",
              "  </div>\n",
              "  "
            ]
          },
          "metadata": {},
          "execution_count": 22
        }
      ]
    },
    {
      "cell_type": "code",
      "source": [
        "chat_data = pd.concat([chat_data1, chat_data2], axis = 0)\n",
        "chat_data = chat_data.reset_index(drop=True)\n",
        "chat_data.shape"
      ],
      "metadata": {
        "colab": {
          "base_uri": "https://localhost:8080/"
        },
        "id": "gTcp-RQogEq5",
        "outputId": "3bc65ca3-009f-48e0-8e9f-bb62a8321cdf"
      },
      "execution_count": null,
      "outputs": [
        {
          "output_type": "execute_result",
          "data": {
            "text/plain": [
              "(12226, 2)"
            ]
          },
          "metadata": {},
          "execution_count": 23
        }
      ]
    },
    {
      "cell_type": "code",
      "source": [
        "chat_data.tail()"
      ],
      "metadata": {
        "colab": {
          "base_uri": "https://localhost:8080/",
          "height": 206
        },
        "id": "JJjM1dd0gsFJ",
        "outputId": "3cedaf98-dc3c-4b7d-d5c6-0d90f9297631"
      },
      "execution_count": null,
      "outputs": [
        {
          "output_type": "execute_result",
          "data": {
            "text/plain": [
              "                         Q                           A\n",
              "12221       몸이 많이 안 좋으신가요?                 네 병이 조금 있어서\n",
              "12222     등기를 받기를 원하시는 거죠?                           예\n",
              "12223    안경을 쓰고 찍어도 상관없나요?  네 렌즈에 색이 들어가 있지만 않으면 가능합니다\n",
              "12224        사진 크기를 묻는건가요?                           네\n",
              "12225  동구청 근처 사진관 물어보시는거죠?                  네네 동구청 근처요"
            ],
            "text/html": [
              "\n",
              "  <div id=\"df-b8e72211-95c2-4117-90dc-b0fc9db4ea39\">\n",
              "    <div class=\"colab-df-container\">\n",
              "      <div>\n",
              "<style scoped>\n",
              "    .dataframe tbody tr th:only-of-type {\n",
              "        vertical-align: middle;\n",
              "    }\n",
              "\n",
              "    .dataframe tbody tr th {\n",
              "        vertical-align: top;\n",
              "    }\n",
              "\n",
              "    .dataframe thead th {\n",
              "        text-align: right;\n",
              "    }\n",
              "</style>\n",
              "<table border=\"1\" class=\"dataframe\">\n",
              "  <thead>\n",
              "    <tr style=\"text-align: right;\">\n",
              "      <th></th>\n",
              "      <th>Q</th>\n",
              "      <th>A</th>\n",
              "    </tr>\n",
              "  </thead>\n",
              "  <tbody>\n",
              "    <tr>\n",
              "      <th>12221</th>\n",
              "      <td>몸이 많이 안 좋으신가요?</td>\n",
              "      <td>네 병이 조금 있어서</td>\n",
              "    </tr>\n",
              "    <tr>\n",
              "      <th>12222</th>\n",
              "      <td>등기를 받기를 원하시는 거죠?</td>\n",
              "      <td>예</td>\n",
              "    </tr>\n",
              "    <tr>\n",
              "      <th>12223</th>\n",
              "      <td>안경을 쓰고 찍어도 상관없나요?</td>\n",
              "      <td>네 렌즈에 색이 들어가 있지만 않으면 가능합니다</td>\n",
              "    </tr>\n",
              "    <tr>\n",
              "      <th>12224</th>\n",
              "      <td>사진 크기를 묻는건가요?</td>\n",
              "      <td>네</td>\n",
              "    </tr>\n",
              "    <tr>\n",
              "      <th>12225</th>\n",
              "      <td>동구청 근처 사진관 물어보시는거죠?</td>\n",
              "      <td>네네 동구청 근처요</td>\n",
              "    </tr>\n",
              "  </tbody>\n",
              "</table>\n",
              "</div>\n",
              "      <button class=\"colab-df-convert\" onclick=\"convertToInteractive('df-b8e72211-95c2-4117-90dc-b0fc9db4ea39')\"\n",
              "              title=\"Convert this dataframe to an interactive table.\"\n",
              "              style=\"display:none;\">\n",
              "        \n",
              "  <svg xmlns=\"http://www.w3.org/2000/svg\" height=\"24px\"viewBox=\"0 0 24 24\"\n",
              "       width=\"24px\">\n",
              "    <path d=\"M0 0h24v24H0V0z\" fill=\"none\"/>\n",
              "    <path d=\"M18.56 5.44l.94 2.06.94-2.06 2.06-.94-2.06-.94-.94-2.06-.94 2.06-2.06.94zm-11 1L8.5 8.5l.94-2.06 2.06-.94-2.06-.94L8.5 2.5l-.94 2.06-2.06.94zm10 10l.94 2.06.94-2.06 2.06-.94-2.06-.94-.94-2.06-.94 2.06-2.06.94z\"/><path d=\"M17.41 7.96l-1.37-1.37c-.4-.4-.92-.59-1.43-.59-.52 0-1.04.2-1.43.59L10.3 9.45l-7.72 7.72c-.78.78-.78 2.05 0 2.83L4 21.41c.39.39.9.59 1.41.59.51 0 1.02-.2 1.41-.59l7.78-7.78 2.81-2.81c.8-.78.8-2.07 0-2.86zM5.41 20L4 18.59l7.72-7.72 1.47 1.35L5.41 20z\"/>\n",
              "  </svg>\n",
              "      </button>\n",
              "      \n",
              "  <style>\n",
              "    .colab-df-container {\n",
              "      display:flex;\n",
              "      flex-wrap:wrap;\n",
              "      gap: 12px;\n",
              "    }\n",
              "\n",
              "    .colab-df-convert {\n",
              "      background-color: #E8F0FE;\n",
              "      border: none;\n",
              "      border-radius: 50%;\n",
              "      cursor: pointer;\n",
              "      display: none;\n",
              "      fill: #1967D2;\n",
              "      height: 32px;\n",
              "      padding: 0 0 0 0;\n",
              "      width: 32px;\n",
              "    }\n",
              "\n",
              "    .colab-df-convert:hover {\n",
              "      background-color: #E2EBFA;\n",
              "      box-shadow: 0px 1px 2px rgba(60, 64, 67, 0.3), 0px 1px 3px 1px rgba(60, 64, 67, 0.15);\n",
              "      fill: #174EA6;\n",
              "    }\n",
              "\n",
              "    [theme=dark] .colab-df-convert {\n",
              "      background-color: #3B4455;\n",
              "      fill: #D2E3FC;\n",
              "    }\n",
              "\n",
              "    [theme=dark] .colab-df-convert:hover {\n",
              "      background-color: #434B5C;\n",
              "      box-shadow: 0px 1px 3px 1px rgba(0, 0, 0, 0.15);\n",
              "      filter: drop-shadow(0px 1px 2px rgba(0, 0, 0, 0.3));\n",
              "      fill: #FFFFFF;\n",
              "    }\n",
              "  </style>\n",
              "\n",
              "      <script>\n",
              "        const buttonEl =\n",
              "          document.querySelector('#df-b8e72211-95c2-4117-90dc-b0fc9db4ea39 button.colab-df-convert');\n",
              "        buttonEl.style.display =\n",
              "          google.colab.kernel.accessAllowed ? 'block' : 'none';\n",
              "\n",
              "        async function convertToInteractive(key) {\n",
              "          const element = document.querySelector('#df-b8e72211-95c2-4117-90dc-b0fc9db4ea39');\n",
              "          const dataTable =\n",
              "            await google.colab.kernel.invokeFunction('convertToInteractive',\n",
              "                                                     [key], {});\n",
              "          if (!dataTable) return;\n",
              "\n",
              "          const docLinkHtml = 'Like what you see? Visit the ' +\n",
              "            '<a target=\"_blank\" href=https://colab.research.google.com/notebooks/data_table.ipynb>data table notebook</a>'\n",
              "            + ' to learn more about interactive tables.';\n",
              "          element.innerHTML = '';\n",
              "          dataTable['output_type'] = 'display_data';\n",
              "          await google.colab.output.renderOutput(dataTable, element);\n",
              "          const docLink = document.createElement('div');\n",
              "          docLink.innerHTML = docLinkHtml;\n",
              "          element.appendChild(docLink);\n",
              "        }\n",
              "      </script>\n",
              "    </div>\n",
              "  </div>\n",
              "  "
            ]
          },
          "metadata": {},
          "execution_count": 24
        }
      ]
    },
    {
      "cell_type": "code",
      "source": [
        "import string\n",
        "exclude=set(string.punctuation)\n",
        "chat_data.Q=chat_data.Q.apply(lambda x:''.join (ch for ch in x if ch not in exclude))\n",
        "chat_data.A=chat_data.A.apply(lambda x:''.join (ch for ch in x if ch not in exclude))\n",
        "print(chat_data.tail())"
      ],
      "metadata": {
        "colab": {
          "base_uri": "https://localhost:8080/"
        },
        "id": "l_77GkQABWNx",
        "outputId": "943160ea-d346-4896-e045-fa59762c2a8d"
      },
      "execution_count": null,
      "outputs": [
        {
          "output_type": "stream",
          "name": "stdout",
          "text": [
            "                        Q                           A\n",
            "12221       몸이 많이 안 좋으신가요                 네 병이 조금 있어서\n",
            "12222     등기를 받기를 원하시는 거죠                           예\n",
            "12223    안경을 쓰고 찍어도 상관없나요  네 렌즈에 색이 들어가 있지만 않으면 가능합니다\n",
            "12224        사진 크기를 묻는건가요                           네\n",
            "12225  동구청 근처 사진관 물어보시는거죠                  네네 동구청 근처요\n"
          ]
        }
      ]
    },
    {
      "cell_type": "code",
      "source": [
        "import tensorflow_datasets as tfds\n",
        "tokenizer = tfds.deprecated.text.SubwordTextEncoder.build_from_corpus(\n",
        "    chat_data.Q+chat_data.A, target_vocab_size=2**13)\n",
        "print(tokenizer.vocab_size)"
      ],
      "metadata": {
        "colab": {
          "base_uri": "https://localhost:8080/"
        },
        "id": "pFJRATE5B-CN",
        "outputId": "0870893c-0292-46e9-d1a0-a345fb1056cb"
      },
      "execution_count": null,
      "outputs": [
        {
          "output_type": "stream",
          "name": "stdout",
          "text": [
            "7606\n"
          ]
        }
      ]
    },
    {
      "cell_type": "code",
      "source": [
        "ex_1=tokenizer.encode(chat_data.loc[20,'Q'])\n",
        "print(ex_1)\n",
        "ex_2=tokenizer.decode(ex_1)\n",
        "print(ex_2)"
      ],
      "metadata": {
        "colab": {
          "base_uri": "https://localhost:8080/"
        },
        "id": "dT4N5WTACBQ-",
        "outputId": "4ddbd1f0-ca0f-44b4-aa15-e3b891939e4c"
      },
      "execution_count": null,
      "outputs": [
        {
          "output_type": "stream",
          "name": "stdout",
          "text": [
            "[7328, 595, 4387, 115, 879, 3381, 1072]\n",
            "가스비 비싼데 감기 걸리겠어\n"
          ]
        }
      ]
    },
    {
      "cell_type": "code",
      "source": [
        "START_TOKEN, END_TOKEN = [tokenizer.vocab_size], [tokenizer.vocab_size + 1]\n",
        "\n",
        "VOCAB_SIZE = tokenizer.vocab_size + 2 #2개의 token이 추가됨\n",
        "print(VOCAB_SIZE)"
      ],
      "metadata": {
        "colab": {
          "base_uri": "https://localhost:8080/"
        },
        "id": "JHWuh8AgCEAG",
        "outputId": "c617b6d1-9c15-4b50-d4cd-aac09900ce33"
      },
      "execution_count": null,
      "outputs": [
        {
          "output_type": "stream",
          "name": "stdout",
          "text": [
            "7608\n"
          ]
        }
      ]
    },
    {
      "cell_type": "code",
      "source": [
        "tokenized_inputs, tokenized_outputs = [], []\n",
        "\n",
        "for (sentence1, sentence2) in zip(chat_data.Q, chat_data.A):\n",
        "    # decoder(토큰화 + 정수 인코딩), 시작 토큰과 종료 토큰 추가\n",
        "    sentence1 = tokenizer.encode(sentence1)\n",
        "    sentence2 = START_TOKEN + tokenizer.encode(sentence2) + END_TOKEN\n",
        "\n",
        "    tokenized_inputs.append(sentence1)\n",
        "    tokenized_outputs.append(sentence2) \n",
        "\n",
        "print(tokenized_inputs[:5])\n",
        "print(tokenized_outputs[:5])"
      ],
      "metadata": {
        "colab": {
          "base_uri": "https://localhost:8080/"
        },
        "id": "Gk0V-zKGCHnO",
        "outputId": "515946d5-0660-4892-ec22-249996da1bff"
      },
      "execution_count": null,
      "outputs": [
        {
          "output_type": "stream",
          "name": "stdout",
          "text": [
            "[[7399, 7400, 815, 3833], [7399, 41, 910, 7382, 889, 2090], [7401, 1392, 5869, 7382, 4561, 77], [7401, 1392, 5869, 7382, 933, 4561, 77], [7430, 7430, 7426, 7382, 1880, 50]]\n",
            "[[7606, 4769, 72, 2386, 15, 7607], [7606, 2221, 4518, 7607], [7606, 4256, 943, 140, 7607], [7606, 4256, 943, 140, 7607], [7606, 1065, 2273, 1977, 2707, 5527, 33, 7607]]\n"
          ]
        }
      ]
    },
    {
      "cell_type": "code",
      "source": [
        "import numpy as np\n",
        "lenth_list=[]\n",
        "for l in tokenized_inputs:\n",
        "    lenth_list.append(len(l))\n",
        "q_lenth_max=np.max(lenth_list)\n",
        "print(q_lenth_max)\n",
        "\n",
        "lenth_list=[]\n",
        "for l in tokenized_outputs:\n",
        "    lenth_list.append(len(l))\n",
        "a_lenth_max=np.max(lenth_list)\n",
        "print(a_lenth_max)"
      ],
      "metadata": {
        "colab": {
          "base_uri": "https://localhost:8080/"
        },
        "id": "4YgoI3vFCKoU",
        "outputId": "400d2bcb-235c-45cf-d599-96494baea49c"
      },
      "execution_count": null,
      "outputs": [
        {
          "output_type": "stream",
          "name": "stdout",
          "text": [
            "98\n",
            "105\n"
          ]
        }
      ]
    },
    {
      "cell_type": "code",
      "source": [
        "import tensorflow as tf\n",
        "\n",
        "max_length_q=98\n",
        "questions = tf.keras.preprocessing.sequence.pad_sequences(\n",
        "      tokenized_inputs, maxlen=max_length_q, padding='post')\n",
        "\n",
        "max_length_a=105\n",
        "answers = tf.keras.preprocessing.sequence.pad_sequences(\n",
        "      tokenized_outputs, maxlen=max_length_a, padding='post')"
      ],
      "metadata": {
        "id": "SBwbpvMPCLDB"
      },
      "execution_count": null,
      "outputs": []
    },
    {
      "cell_type": "code",
      "source": [
        "print(questions[:2])\n",
        "print(answers[:2])"
      ],
      "metadata": {
        "colab": {
          "base_uri": "https://localhost:8080/"
        },
        "id": "NzlBHjO0CNWz",
        "outputId": "dcdf57fb-07af-4c29-af43-23f01c8bc049"
      },
      "execution_count": null,
      "outputs": [
        {
          "output_type": "stream",
          "name": "stdout",
          "text": [
            "[[7399 7400  815 3833    0    0    0    0    0    0    0    0    0    0\n",
            "     0    0    0    0    0    0    0    0    0    0    0    0    0    0\n",
            "     0    0    0    0    0    0    0    0    0    0    0    0    0    0\n",
            "     0    0    0    0    0    0    0    0    0    0    0    0    0    0\n",
            "     0    0    0    0    0    0    0    0    0    0    0    0    0    0\n",
            "     0    0    0    0    0    0    0    0    0    0    0    0    0    0\n",
            "     0    0    0    0    0    0    0    0    0    0    0    0    0    0]\n",
            " [7399   41  910 7382  889 2090    0    0    0    0    0    0    0    0\n",
            "     0    0    0    0    0    0    0    0    0    0    0    0    0    0\n",
            "     0    0    0    0    0    0    0    0    0    0    0    0    0    0\n",
            "     0    0    0    0    0    0    0    0    0    0    0    0    0    0\n",
            "     0    0    0    0    0    0    0    0    0    0    0    0    0    0\n",
            "     0    0    0    0    0    0    0    0    0    0    0    0    0    0\n",
            "     0    0    0    0    0    0    0    0    0    0    0    0    0    0]]\n",
            "[[7606 4769   72 2386   15 7607    0    0    0    0    0    0    0    0\n",
            "     0    0    0    0    0    0    0    0    0    0    0    0    0    0\n",
            "     0    0    0    0    0    0    0    0    0    0    0    0    0    0\n",
            "     0    0    0    0    0    0    0    0    0    0    0    0    0    0\n",
            "     0    0    0    0    0    0    0    0    0    0    0    0    0    0\n",
            "     0    0    0    0    0    0    0    0    0    0    0    0    0    0\n",
            "     0    0    0    0    0    0    0    0    0    0    0    0    0    0\n",
            "     0    0    0    0    0    0    0]\n",
            " [7606 2221 4518 7607    0    0    0    0    0    0    0    0    0    0\n",
            "     0    0    0    0    0    0    0    0    0    0    0    0    0    0\n",
            "     0    0    0    0    0    0    0    0    0    0    0    0    0    0\n",
            "     0    0    0    0    0    0    0    0    0    0    0    0    0    0\n",
            "     0    0    0    0    0    0    0    0    0    0    0    0    0    0\n",
            "     0    0    0    0    0    0    0    0    0    0    0    0    0    0\n",
            "     0    0    0    0    0    0    0    0    0    0    0    0    0    0\n",
            "     0    0    0    0    0    0    0]]\n"
          ]
        }
      ]
    },
    {
      "cell_type": "code",
      "source": [
        "print(tokenizer.decode(questions[0]))\n",
        "print(questions.shape)\n",
        "print(answers.shape)"
      ],
      "metadata": {
        "colab": {
          "base_uri": "https://localhost:8080/"
        },
        "id": "qoIu4F9dCPSW",
        "outputId": "93d3f1f0-8755-4fc5-f4af-08ed3a7137c3"
      },
      "execution_count": null,
      "outputs": [
        {
          "output_type": "stream",
          "name": "stdout",
          "text": [
            "12시 땡\n",
            "(12226, 98)\n",
            "(12226, 105)\n"
          ]
        }
      ]
    },
    {
      "cell_type": "code",
      "source": [
        "import tensorflow as tf\n",
        "data_set=tf.data.Dataset.from_tensor_slices(((questions,answers[:,:-1]),answers[:,1:]))\n",
        "data_final=data_set.shuffle(500).batch(32).prefetch(32)\n",
        "ds_test=next(iter(data_final))\n",
        "print(np.array(ds_test[0][0].shape))\n",
        "print(np.array(ds_test[1]).shape)\n",
        "print(np.array(ds_test[0][1].shape))"
      ],
      "metadata": {
        "colab": {
          "base_uri": "https://localhost:8080/"
        },
        "id": "gjQ2Ak48CRXG",
        "outputId": "6db9fdc3-7195-48bb-c74e-a6cc0f8c6cfd"
      },
      "execution_count": null,
      "outputs": [
        {
          "output_type": "stream",
          "name": "stdout",
          "text": [
            "[32 98]\n",
            "(32, 104)\n",
            "[ 32 104]\n"
          ]
        }
      ]
    },
    {
      "cell_type": "code",
      "source": [
        "import tensorflow as tf\n",
        "def get_angles(pos, i, d_model):\n",
        "  angle_rates = 1 / np.power(10000, (2 * (i//2)) / np.float32(d_model))\n",
        "  return pos * angle_rates"
      ],
      "metadata": {
        "id": "-1e3wL6VCTiV"
      },
      "execution_count": null,
      "outputs": []
    },
    {
      "cell_type": "code",
      "source": [
        "def positional_encoding(position, d_model):\n",
        "  angle_rads = get_angles(np.arange(position)[:, np.newaxis],\n",
        "                          np.arange(d_model)[np.newaxis, :],\n",
        "                          d_model)\n",
        "\n",
        "  # apply sin to even indices in the array; 2i\n",
        "  angle_rads[:, 0::2] = np.sin(angle_rads[:, 0::2])\n",
        "\n",
        "  # apply cos to odd indices in the array; 2i+1\n",
        "  angle_rads[:, 1::2] = np.cos(angle_rads[:, 1::2])\n",
        "\n",
        "  pos_encoding = angle_rads[np.newaxis, ...]\n",
        "\n",
        "  return tf.cast(pos_encoding, dtype=tf.float32)#(1,position,d_model)"
      ],
      "metadata": {
        "id": "lPPLdxJ6CVe_"
      },
      "execution_count": null,
      "outputs": []
    },
    {
      "cell_type": "code",
      "source": [
        "def create_padding_mask(x):\n",
        "  mask = tf.cast(tf.math.equal(x, 0), tf.float32)\n",
        "  #x:tokenized words with padding for each sentence 1D텐서 [...,0,0,0]\n",
        "  # add extra dimensions to add the padding\n",
        "  # to the attention logits.\n",
        "  return mask[:, tf.newaxis, tf.newaxis, :]  # (batch_size, 1, 1, seq_len)"
      ],
      "metadata": {
        "id": "gHPDqSspCXvt"
      },
      "execution_count": null,
      "outputs": []
    },
    {
      "cell_type": "code",
      "source": [
        "def create_look_ahead_mask(x):\n",
        "    seq_len=tf.shape(x)[1]\n",
        "    look_ahead_mask=1-tf.linalg.band_part(tf.ones((seq_len,seq_len)),-1,0)\n",
        "    padding_mask=create_padding_mask(x)\n",
        "    return tf.maximum(look_ahead_mask,padding_mask)"
      ],
      "metadata": {
        "id": "UyorbDO5CaPp"
      },
      "execution_count": null,
      "outputs": []
    },
    {
      "cell_type": "code",
      "source": [
        "def scaled_dot_product_attention(q, k, v, mask):\n",
        "  \"\"\"Calculate the attention weights.\n",
        "  q, k, v must have matching leading dimensions.\n",
        "  k, v must have matching penultimate dimension, i.e.: seq_len_k = seq_len_v.\n",
        "  The mask has different shapes depending on its type(padding or look ahead)\n",
        "  but it must be broadcastable for addition.\n",
        "\n",
        "  Args:\n",
        "    q: query shape == (..., seq_len_q, depth) (number of heads,ts,64)\n",
        "    k: key shape == (..., seq_len_k, depth)   (number of heads,ts,64)\n",
        "    v: value shape == (..., seq_len_v, depth_v) (number of heads,ts,64)\n",
        "    mask: Float tensor with shape broadcastable  (1,1,ts) or (ts,ts)\n",
        "          to (..., seq_len_q, seq_len_k). Defaults to None.\n",
        "\n",
        "  Returns:\n",
        "    output, attention_weights\n",
        "  \"\"\"\n",
        "\n",
        "  matmul_qk = tf.matmul(q, k, transpose_b=True)  # (..., seq_len_q, seq_len_k)\n",
        "\n",
        "  # scale matmul_qk\n",
        "  dk = tf.cast(tf.shape(k)[-1], tf.float32)\n",
        "  scaled_attention_logits = matmul_qk / tf.math.sqrt(dk)\n",
        "\n",
        "  # add the mask to the scaled tensor.\n",
        "  if mask is not None:\n",
        "    scaled_attention_logits += (mask * -1e9)\n",
        "\n",
        "  # softmax is normalized on the last axis (seq_len_k) so that the scores\n",
        "  # add up to 1.\n",
        "  attention_weights = tf.nn.softmax(scaled_attention_logits, axis=-1)  # (..., seq_len_q, seq_len_k) (number of heads,ts,ts)\n",
        "\n",
        "  output = tf.matmul(attention_weights, v)  # (..., seq_len_q, depth_v) (number of heads,ts,64)\n",
        "\n",
        "  return output, attention_weights"
      ],
      "metadata": {
        "id": "JpeLqxLUCcI2"
      },
      "execution_count": null,
      "outputs": []
    },
    {
      "cell_type": "code",
      "source": [
        "class MultiHeadAttention(tf.keras.layers.Layer):\n",
        "  def __init__(self, d_model, num_heads):\n",
        "    super(MultiHeadAttention, self).__init__()\n",
        "    self.num_heads = num_heads  #8\n",
        "    self.d_model = d_model #512\n",
        "\n",
        "    assert d_model % self.num_heads == 0\n",
        "\n",
        "    self.depth = d_model // self.num_heads\n",
        "\n",
        "    self.wq = tf.keras.layers.Dense(d_model) #(ts,512)\n",
        "    self.wk = tf.keras.layers.Dense(d_model) #(ts,512)\n",
        "    self.wv = tf.keras.layers.Dense(d_model) #(ts,512)\n",
        "\n",
        "    self.dense = tf.keras.layers.Dense(d_model) # scale_dot_attention후 concatenate한 attention (ts,512)를 Dense에 통과하기 위함\n",
        "\n",
        "  def split_heads(self, x, batch_size):\n",
        "    \"\"\"Split the last dimension into (num_heads, depth).\n",
        "    Transpose the result such that the shape is (batch_size, num_heads, seq_len, depth)\n",
        "    (batch,ts,512)를 (batch,ts,heads(8), depth(64))로 reshape한후 (batch,heads,ts,depth)로 반환하는 함수\n",
        "    \"\"\"\n",
        "    x = tf.reshape(x, (batch_size, -1, self.num_heads, self.depth))\n",
        "    return tf.transpose(x, perm=[0, 2, 1, 3])\n",
        "\n",
        "  def call(self, v, k, q, mask):\n",
        "    batch_size = tf.shape(q)[0]\n",
        "\n",
        "    q = self.wq(q)  # (batch_size, ts, 512) 여기에서 512=d_model=embedding_size\n",
        "    k = self.wk(k)  # (batch_size, ts, 512)\n",
        "    v = self.wv(v)  # (batch_size, ts, 512)\n",
        "\n",
        "    q = self.split_heads(q, batch_size)  # (batch_size, num_heads, seq_len_q, depth) depth=64, num_heads=8,seq_len_q=ts \n",
        "    k = self.split_heads(k, batch_size)  # (batch_size, num_heads, seq_len_k, depth) depth=64, num_heads=8,seq_len_k=ts \n",
        "    v = self.split_heads(v, batch_size)  # (batch_size, num_heads, seq_len_v, depth) depth=64, num_heads=8,seq_len_v=ts \n",
        "\n",
        "    # scaled_attention.shape == (batch_size, num_heads, seq_len_q, depth)\n",
        "    # attention_weights.shape == (batch_size, num_heads, seq_len_q, seq_len_k)\n",
        "    scaled_attention, attention_weights = scaled_dot_product_attention(\n",
        "        q, k, v, mask)\n",
        "\n",
        "    scaled_attention = tf.transpose(scaled_attention, perm=[0, 2, 1, 3])  # (batch_size, seq_len_q, num_heads, depth)\n",
        "\n",
        "    concat_attention = tf.reshape(scaled_attention,\n",
        "                                  (batch_size, -1, self.d_model))  # (batch_size, seq_len_q, d_model)\n",
        "\n",
        "    output = self.dense(concat_attention)  # (batch_size, seq_len_q, d_model)\n",
        "\n",
        "    return output, attention_weights"
      ],
      "metadata": {
        "id": "2uJQXYVMCfg4"
      },
      "execution_count": null,
      "outputs": []
    },
    {
      "cell_type": "code",
      "source": [
        "def point_wise_feed_forward_network(d_model, dff):\n",
        "  return tf.keras.Sequential([\n",
        "      tf.keras.layers.Dense(dff, activation='relu'),  # (batch_size, seq_len, dff) seq_len=ts\n",
        "      tf.keras.layers.Dense(d_model)  # (batch_size, seq_len, d_model) d_model=512\n",
        "  ])"
      ],
      "metadata": {
        "id": "vUJ5WN40CihO"
      },
      "execution_count": null,
      "outputs": []
    },
    {
      "cell_type": "code",
      "source": [
        "class EncoderLayer(tf.keras.layers.Layer):\n",
        "  def __init__(self, d_model, num_heads, dff, rate=0.1):\n",
        "    super(EncoderLayer, self).__init__()\n",
        "\n",
        "    self.mha = MultiHeadAttention(d_model, num_heads)\n",
        "    self.ffn = point_wise_feed_forward_network(d_model, dff)\n",
        "\n",
        "    self.layernorm1 = tf.keras.layers.LayerNormalization(epsilon=1e-6)\n",
        "    self.layernorm2 = tf.keras.layers.LayerNormalization(epsilon=1e-6)\n",
        "\n",
        "    self.dropout1 = tf.keras.layers.Dropout(rate)\n",
        "    self.dropout2 = tf.keras.layers.Dropout(rate)\n",
        "\n",
        "  def call(self, x, mask):\n",
        "\n",
        "    attn_output, _ = self.mha(x, x, x, mask)  # (batch_size, input_seq_len, d_model) input_seq_len=input_ts, d_model=512\n",
        "    attn_output = self.dropout1(attn_output)\n",
        "    out1 = self.layernorm1(x + attn_output)  # (batch_size, input_seq_len, d_model)\n",
        "\n",
        "    ffn_output = self.ffn(out1)  # (batch_size, input_seq_len, d_model)\n",
        "    ffn_output = self.dropout2(ffn_output)\n",
        "    out2 = self.layernorm2(out1 + ffn_output)  # (batch_size, input_seq_len, d_model)\n",
        "\n",
        "    return out2"
      ],
      "metadata": {
        "id": "UWh8t2lrCkpL"
      },
      "execution_count": null,
      "outputs": []
    },
    {
      "cell_type": "code",
      "source": [
        "class DecoderLayer(tf.keras.layers.Layer):\n",
        "  def __init__(self, d_model, num_heads, dff, rate=0.1):\n",
        "    super(DecoderLayer, self).__init__()\n",
        "\n",
        "    self.mha1 = MultiHeadAttention(d_model, num_heads)\n",
        "    self.mha2 = MultiHeadAttention(d_model, num_heads)\n",
        "\n",
        "    self.ffn = point_wise_feed_forward_network(d_model, dff)\n",
        "\n",
        "    self.layernorm1 = tf.keras.layers.LayerNormalization(epsilon=1e-6)\n",
        "    self.layernorm2 = tf.keras.layers.LayerNormalization(epsilon=1e-6)\n",
        "    self.layernorm3 = tf.keras.layers.LayerNormalization(epsilon=1e-6)\n",
        "\n",
        "    self.dropout1 = tf.keras.layers.Dropout(rate)\n",
        "    self.dropout2 = tf.keras.layers.Dropout(rate)\n",
        "    self.dropout3 = tf.keras.layers.Dropout(rate)\n",
        "\n",
        "  def call(self, x, enc_output, look_ahead_mask, padding_mask):\n",
        "    # enc_output.shape == (batch_size, input_seq_len, d_model) x: decoder input\n",
        "\n",
        "    attn1, attn_weights_block1 = self.mha1(x, x, x, look_ahead_mask)  # (batch_size, target_seq_len, d_model) \n",
        "    attn1 = self.dropout1(attn1)                   #targer_seq_len=decoder_input_ts\n",
        "    out1 = self.layernorm1(attn1 + x)\n",
        "\n",
        "    attn2, attn_weights_block2 = self.mha2(enc_output, enc_output, out1, padding_mask) \n",
        "    attn2 = self.dropout2(attn2)\n",
        "    out2 = self.layernorm2(attn2 + out1)  # (batch_size, target_seq_len, d_model) #target_seq_len=decoder_input_ts\n",
        "\n",
        "    ffn_output = self.ffn(out2)  # (batch_size, target_seq_len, d_model)\n",
        "    ffn_output = self.dropout3(ffn_output)\n",
        "    out3 = self.layernorm3(ffn_output + out2)  # (batch_size, target_seq_len, d_model)\n",
        "\n",
        "    return out3, attn_weights_block1, attn_weights_block2"
      ],
      "metadata": {
        "id": "F0ZD7W2tCm1G"
      },
      "execution_count": null,
      "outputs": []
    },
    {
      "cell_type": "code",
      "source": [
        "class Encoder(tf.keras.layers.Layer):\n",
        "  def __init__(self, num_layers, d_model, num_heads, dff, input_vocab_size,\n",
        "               maximum_position_encoding, rate=0.1):\n",
        "    super(Encoder, self).__init__()\n",
        "\n",
        "    self.d_model = d_model\n",
        "    self.num_layers = num_layers\n",
        "\n",
        "    self.embedding = tf.keras.layers.Embedding(input_vocab_size, d_model)\n",
        "    self.pos_encoding = positional_encoding(maximum_position_encoding,\n",
        "                                            self.d_model)\n",
        "\n",
        "    self.enc_layers = [EncoderLayer(d_model, num_heads, dff, rate)\n",
        "                       for _ in range(num_layers)]\n",
        "\n",
        "    self.dropout = tf.keras.layers.Dropout(rate)\n",
        "\n",
        "  def call(self, x, mask):\n",
        "\n",
        "    seq_len = tf.shape(x)[1]  #x는 tokenized sentence with padding\n",
        "\n",
        "    # adding embedding and position encoding.\n",
        "    x = self.embedding(x)  # (batch_size, input_seq_len, d_model)\n",
        "    x *= tf.math.sqrt(tf.cast(self.d_model, tf.float32))\n",
        "    x += self.pos_encoding[:, :seq_len, :]\n",
        "\n",
        "    x = self.dropout(x)\n",
        "\n",
        "    for i in range(self.num_layers):\n",
        "      x = self.enc_layers[i](x, mask)\n",
        "\n",
        "    return x  # (batch_size, input_seq_len, d_model)"
      ],
      "metadata": {
        "id": "VZvE-7doCo8M"
      },
      "execution_count": null,
      "outputs": []
    },
    {
      "cell_type": "code",
      "source": [
        "class Decoder(tf.keras.layers.Layer):\n",
        "  def __init__(self, num_layers, d_model, num_heads, dff, target_vocab_size,\n",
        "               maximum_position_encoding, rate=0.1):\n",
        "    super(Decoder, self).__init__()\n",
        "\n",
        "    self.d_model = d_model\n",
        "    self.num_layers = num_layers\n",
        "\n",
        "    self.embedding = tf.keras.layers.Embedding(target_vocab_size, d_model)\n",
        "    self.pos_encoding = positional_encoding(maximum_position_encoding, d_model)\n",
        "\n",
        "    self.dec_layers = [DecoderLayer(d_model, num_heads, dff, rate)\n",
        "                       for _ in range(num_layers)]\n",
        "    self.dropout = tf.keras.layers.Dropout(rate)\n",
        "\n",
        "  def call(self, x, enc_output, look_ahead_mask, padding_mask):\n",
        "\n",
        "    seq_len = tf.shape(x)[1]\n",
        "    attention_weights = {}\n",
        "\n",
        "    x = self.embedding(x)  # (batch_size, target_seq_len, d_model)\n",
        "    x *= tf.math.sqrt(tf.cast(self.d_model, tf.float32))\n",
        "    x += self.pos_encoding[:, :seq_len, :]\n",
        "\n",
        "    x = self.dropout(x)\n",
        "\n",
        "    for i in range(self.num_layers):\n",
        "      x, block1, block2 = self.dec_layers[i](x, enc_output,look_ahead_mask, padding_mask)\n",
        "\n",
        "      attention_weights[f'decoder_layer{i+1}_block1'] = block1\n",
        "      attention_weights[f'decoder_layer{i+1}_block2'] = block2\n",
        "\n",
        "    # x.shape == (batch_size, target_seq_len, d_model)\n",
        "    return x, attention_weights"
      ],
      "metadata": {
        "id": "oSLW6IfkCrtQ"
      },
      "execution_count": null,
      "outputs": []
    },
    {
      "cell_type": "code",
      "source": [
        "def transformer(num_layers, d_model, num_heads, dff, input_vocab_size,\n",
        "               target_vocab_size, ts_input, ts_target, rate=0.1):\n",
        "    \n",
        "    enc_input = tf.keras.Input(shape=(None,))  \n",
        "    dec_input = tf.keras.Input(shape=(None,))\n",
        "    \n",
        "    enc_padding_mask=tf.keras.layers.Lambda(create_padding_mask,output_shape=(1,1,None))(enc_input)\n",
        "    look_ahead_mask=tf.keras.layers.Lambda(create_look_ahead_mask,output_shape=(1,None,None))(dec_input)\n",
        "    dec_padding_mask=tf.keras.layers.Lambda(create_padding_mask,output_shape=(1,1,None))(enc_input)\n",
        "    \n",
        "    enc_output=Encoder(num_layers, d_model, num_heads, dff,\n",
        "                             input_vocab_size, ts_input, rate)(enc_input,enc_padding_mask)\n",
        "    dec_output,_ =Decoder(num_layers, d_model, num_heads, dff,\n",
        "                           target_vocab_size, ts_target, rate)(dec_input,enc_output,look_ahead_mask,dec_padding_mask)\n",
        "    outputs=tf.keras.layers.Dense(target_vocab_size)(dec_output)\n",
        "    \n",
        "    return tf.keras.Model(inputs=[enc_input, dec_input], outputs=outputs)"
      ],
      "metadata": {
        "id": "pXKZG5qlCwPq"
      },
      "execution_count": null,
      "outputs": []
    },
    {
      "cell_type": "code",
      "source": [
        "loss_object = tf.keras.losses.SparseCategoricalCrossentropy(\n",
        "    from_logits=True, reduction='none')"
      ],
      "metadata": {
        "id": "AXaRnpkeCzKZ"
      },
      "execution_count": null,
      "outputs": []
    },
    {
      "cell_type": "code",
      "source": [
        "def loss_function(y_true, y_pred):\n",
        "  mask = tf.math.logical_not(tf.math.equal(y_true, 0))\n",
        "  loss_ = loss_object(y_true, y_pred)\n",
        "\n",
        "  mask = tf.cast(mask, dtype=loss_.dtype)\n",
        "  loss_ *= mask\n",
        "\n",
        "  return tf.reduce_sum(loss_)/tf.reduce_sum(mask) #padding을 제외한 loss\n",
        "\n",
        "\n",
        "def accuracy_function(y_true, y_pred):\n",
        "  y_hat=tf.cast(tf.argmax(y_pred,axis=2), dtype=tf.float32) #y_true가 float32이기 때문\n",
        "  accuracies = tf.equal(y_true, y_hat)\n",
        "  #accuracies = tf.equal(y_true, tf.argmax(y_pred, axis=2)) #True, False로 출력\n",
        "\n",
        "  mask = tf.math.logical_not(tf.math.equal(y_true, 0))\n",
        "  accuracies = tf.math.logical_and(mask, accuracies) #둘다 true일 때만 True\n",
        "\n",
        "  accuracies = tf.cast(accuracies, dtype=tf.float32)\n",
        "  mask = tf.cast(mask, dtype=tf.float32)\n",
        "  return tf.reduce_sum(accuracies)/tf.reduce_sum(mask)\n",
        "\n",
        "def accuracy(y_true,y_pred):\n",
        "    return tf.keras.metrics.sparse_categorical_accuracy(y_true, y_pred)\n"
      ],
      "metadata": {
        "id": "lh6jZja3C1dA"
      },
      "execution_count": null,
      "outputs": []
    },
    {
      "cell_type": "code",
      "source": [
        "model=transformer(num_layers=1,d_model=128,num_heads=4,dff=256, \n",
        "                  input_vocab_size=VOCAB_SIZE-2, target_vocab_size=VOCAB_SIZE,ts_input=98,ts_target=104,rate=0.1)\n",
        "                  #num_layers=2,3,4는 작동안함. 아마도 작으면 encoder_input에 영향을 많이 받도록함\n",
        "                  #num_layers가 크면 encoder보다 decoder_input에 더 큰영향을 받아 첫 word=START_TOKEN으로 같으므로 \n",
        "                  #항상 같은 답변으로 나올 가능성이 많음. 실제로 그러함. embedding size는 작은 것이 우수함 \n",
        "optimizer = tf.keras.optimizers.Adam()\n",
        "model.compile(optimizer=optimizer, loss=loss_function, metrics=[accuracy_function])\n",
        "model.fit(data_final,epochs=20)"
      ],
      "metadata": {
        "colab": {
          "base_uri": "https://localhost:8080/"
        },
        "id": "9JxNVNkcC3w5",
        "outputId": "8ca9486c-5d52-41a9-d831-dbd913165955"
      },
      "execution_count": null,
      "outputs": [
        {
          "output_type": "stream",
          "name": "stdout",
          "text": [
            "Epoch 1/20\n",
            "383/383 [==============================] - 387s 997ms/step - loss: 6.5388 - accuracy_function: 0.1850\n",
            "Epoch 2/20\n",
            "383/383 [==============================] - 371s 968ms/step - loss: 5.0934 - accuracy_function: 0.2617\n",
            "Epoch 3/20\n",
            "383/383 [==============================] - 370s 966ms/step - loss: 4.0208 - accuracy_function: 0.3534\n",
            "Epoch 4/20\n",
            "383/383 [==============================] - 368s 961ms/step - loss: 3.1638 - accuracy_function: 0.4369\n",
            "Epoch 5/20\n",
            "383/383 [==============================] - 369s 964ms/step - loss: 2.4903 - accuracy_function: 0.5226\n",
            "Epoch 6/20\n",
            "383/383 [==============================] - 369s 964ms/step - loss: 1.9403 - accuracy_function: 0.6067\n",
            "Epoch 7/20\n",
            "383/383 [==============================] - 367s 959ms/step - loss: 1.4910 - accuracy_function: 0.6782\n",
            "Epoch 8/20\n",
            "383/383 [==============================] - 369s 965ms/step - loss: 1.1524 - accuracy_function: 0.7385\n",
            "Epoch 9/20\n",
            "383/383 [==============================] - 373s 973ms/step - loss: 0.9083 - accuracy_function: 0.7837\n",
            "Epoch 10/20\n",
            "383/383 [==============================] - 372s 971ms/step - loss: 0.7269 - accuracy_function: 0.8203\n",
            "Epoch 11/20\n",
            "383/383 [==============================] - 368s 961ms/step - loss: 0.6096 - accuracy_function: 0.8434\n",
            "Epoch 12/20\n",
            "383/383 [==============================] - 369s 963ms/step - loss: 0.5191 - accuracy_function: 0.8626\n",
            "Epoch 13/20\n",
            "383/383 [==============================] - 369s 962ms/step - loss: 0.4622 - accuracy_function: 0.8765\n",
            "Epoch 14/20\n",
            "383/383 [==============================] - 367s 957ms/step - loss: 0.4090 - accuracy_function: 0.8884\n",
            "Epoch 15/20\n",
            "383/383 [==============================] - 368s 962ms/step - loss: 0.3864 - accuracy_function: 0.8946\n",
            "Epoch 16/20\n",
            "383/383 [==============================] - 368s 960ms/step - loss: 0.3533 - accuracy_function: 0.9015\n",
            "Epoch 17/20\n",
            "383/383 [==============================] - 380s 992ms/step - loss: 0.3248 - accuracy_function: 0.9095\n",
            "Epoch 18/20\n",
            "383/383 [==============================] - 371s 968ms/step - loss: 0.3097 - accuracy_function: 0.9127\n",
            "Epoch 19/20\n",
            "383/383 [==============================] - 371s 968ms/step - loss: 0.2882 - accuracy_function: 0.9185\n",
            "Epoch 20/20\n",
            "383/383 [==============================] - 367s 959ms/step - loss: 0.2747 - accuracy_function: 0.9225\n"
          ]
        },
        {
          "output_type": "execute_result",
          "data": {
            "text/plain": [
              "<keras.callbacks.History at 0x7f4bc9ab7b90>"
            ]
          },
          "metadata": {},
          "execution_count": 36
        }
      ]
    },
    {
      "cell_type": "code",
      "source": [
        "def evaluate(sentence):\n",
        "  sentence_1 = preprocess_sentence(sentence)\n",
        "  token_sentence=[]\n",
        "  t_sentence=tokenizer.encode(sentence_1)\n",
        "  token_sentence.append(t_sentence)\n",
        "  encoder_input=tf.keras.preprocessing.sequence.pad_sequences(token_sentence, maxlen=20, padding='post')\n",
        "  print(encoder_input)\n",
        "  decoder_input_pred=np.zeros((1,max_length_a-1),dtype='int32')\n",
        "  word=START_TOKEN[0]\n",
        "  for i in range(max_length_a-1):\n",
        "     decoder_input_pred[:,i]=word\n",
        "     pred=model.predict((encoder_input,decoder_input_pred))\n",
        "     t=np.argmax(pred[0][i])\n",
        "     word=t\n",
        "     if word == END_TOKEN:\n",
        "          break\n",
        "  print(pred.shape)\n",
        "  print(decoder_input_pred)\n",
        "  \n",
        "  return encoder_input, decoder_input_pred\n",
        "  "
      ],
      "metadata": {
        "id": "cBJfuUFpC6Fm"
      },
      "execution_count": null,
      "outputs": []
    },
    {
      "cell_type": "code",
      "source": [
        "def predict(sentence):\n",
        "  encode_input, decode_input = evaluate(sentence)\n",
        "  \n",
        "  t=model.predict([encode_input,decode_input])\n",
        "  prediction=np.argmax(t,axis=2)\n",
        "  print(prediction)\n",
        "  print(prediction.shape)\n",
        "  prediction=tf.squeeze(prediction,axis=0)  \n",
        "  #prediction_sentence=tokenizer.decode(prediction)\n",
        "  \n",
        "  predicted_sentence=[]\n",
        "  for i in prediction:\n",
        "    if i>7606:\n",
        "        break\n",
        "    else:\n",
        "        predicted_sentence.append(tokenizer.decode([i]))\n",
        "    \n",
        "        \n",
        "  #predicted_sentence = tokenizer.decode(\n",
        "    #[i for i in list(prediction) if i < 8511])\n",
        "\n",
        "  print('Input: {}'.format(sentence))\n",
        "  print('Output: {}'.format(predicted_sentence))\n",
        "\n",
        "  return predicted_sentence"
      ],
      "metadata": {
        "id": "w9_BcRmNDA9i"
      },
      "execution_count": null,
      "outputs": []
    },
    {
      "cell_type": "code",
      "source": [
        "exclude=set(string.punctuation)\n",
        "def preprocess_sentence(x):\n",
        "    t=[]\n",
        "    for i in range(len(x)):\n",
        "        if x[i] not in exclude:\n",
        "            t.append(x[i])\n",
        "    #print(t)\n",
        "    x3=''\n",
        "    for i in range(len(t)):\n",
        "        x3=x3+t[i]+''\n",
        "    return x3\n",
        "\n",
        "sentence='피곤하고 재미없다.'\n",
        "sentence_1=preprocess_sentence(sentence)\n",
        "print(sentence_1)\n",
        "\n",
        "predict(sentence)"
      ],
      "metadata": {
        "colab": {
          "base_uri": "https://localhost:8080/"
        },
        "id": "zVJtuileDBos",
        "outputId": "f73451d2-917d-4c15-f48d-29559e9d3cbf"
      },
      "execution_count": null,
      "outputs": [
        {
          "output_type": "stream",
          "name": "stdout",
          "text": [
            "피곤하고 재미없다\n",
            "[[4044   10 2758  942    0    0    0    0    0    0    0    0    0    0\n",
            "     0    0    0    0    0    0]]\n",
            "(1, 104, 7608)\n",
            "[[7606  293 1304  899  684   38 1220  122 6338 6440    0    0    0    0\n",
            "     0    0    0    0    0    0    0    0    0    0    0    0    0    0\n",
            "     0    0    0    0    0    0    0    0    0    0    0    0    0    0\n",
            "     0    0    0    0    0    0    0    0    0    0    0    0    0    0\n",
            "     0    0    0    0    0    0    0    0    0    0    0    0    0    0\n",
            "     0    0    0    0    0    0    0    0    0    0    0    0    0    0\n",
            "     0    0    0    0    0    0    0    0    0    0    0    0    0    0\n",
            "     0    0    0    0    0    0]]\n",
            "[[ 293 1304  899  684   38 1220  122 6338 6440 7607 7607  103  103  103\n",
            "   103  892  103  103  103  103  103  103  103  103  103  103  103  103\n",
            "   103  103  103  103  103  103  103  168  168   38   38  168  168  168\n",
            "   103  103  103  103  132 7607 7607 7607   38   38   38   38   38  611\n",
            "   611  203  684  103  103  103  103  103  103  103  103  103  103  103\n",
            "   103  103  103  103  103  103  103  103  103  103  103  103  103  103\n",
            "   103  103  103  103  103  103  103  103  103  168  103  103  168  168\n",
            "   168  103  103  103  103  103]]\n",
            "(1, 104)\n",
            "Input: 피곤하고 재미없다.\n",
            "Output: ['어 ', '사진', '이랑 ', '신분증 ', '다 ', '생각하고 ', '주', '위 ', '없겠지요']\n"
          ]
        },
        {
          "output_type": "execute_result",
          "data": {
            "text/plain": [
              "['어 ', '사진', '이랑 ', '신분증 ', '다 ', '생각하고 ', '주', '위 ', '없겠지요']"
            ]
          },
          "metadata": {},
          "execution_count": 39
        }
      ]
    },
    {
      "cell_type": "code",
      "source": [
        "predict('3박4일 놀러가고 싶다')\n",
        "predict('카페 갈래')"
      ],
      "metadata": {
        "colab": {
          "base_uri": "https://localhost:8080/"
        },
        "id": "jjhCxrHtDL15",
        "outputId": "7f2aa7cd-6063-455e-d656-63f26136844f"
      },
      "execution_count": null,
      "outputs": [
        {
          "output_type": "stream",
          "name": "stdout",
          "text": [
            "[[8305 1433 4683 8286 3666   87    0    0    0    0    0    0    0    0\n",
            "     0    0    0    0    0    0]]\n",
            "(1, 28, 8512)\n",
            "[[8510 3409  762  120    0    0    0    0    0    0    0    0    0    0\n",
            "     0    0    0    0    0    0    0    0    0    0    0    0    0    0]]\n",
            "[[3409  762  120 8511 8511 8511 8511 8511 8511 8511 8511 8511 8511 8511\n",
            "  8511 8511  204  204  204  204  204 8511 8511 8511 8511 8511 8511 8511]]\n",
            "(1, 28)\n",
            "Input: 3박4일 놀러가고 싶다\n",
            "Output: ['여행은 ', '언제나 ', '좋죠']\n",
            "[[1770  736  396    0    0    0    0    0    0    0    0    0    0    0\n",
            "     0    0    0    0    0    0]]\n",
            "(1, 28, 8512)\n",
            "[[8510  551 7745   29    0    0    0    0    0    0    0    0    0    0\n",
            "     0    0    0    0    0    0    0    0    0    0    0    0    0    0]]\n",
            "[[ 551 7745   29 8511  276  276 1553 1553   98 8511 8511 8511  276  551\n",
            "   551  551  276  276  276  276   98   98 8511 8511  276  276  551  551]]\n",
            "(1, 28)\n",
            "Input: 카페 갈래\n",
            "Output: ['공부 ', '도와달라고 ', '해보세요']\n"
          ]
        },
        {
          "output_type": "execute_result",
          "data": {
            "text/plain": [
              "['공부 ', '도와달라고 ', '해보세요']"
            ]
          },
          "metadata": {},
          "execution_count": 41
        }
      ]
    },
    {
      "cell_type": "code",
      "source": [
        "predict('여권 발급 하는 데 며칠 걸리죠')"
      ],
      "metadata": {
        "id": "YfdozHvYNvLK",
        "colab": {
          "base_uri": "https://localhost:8080/"
        },
        "outputId": "5466311d-f8c1-4357-85c0-339d23b8b6e7"
      },
      "execution_count": null,
      "outputs": [
        {
          "output_type": "stream",
          "name": "stdout",
          "text": [
            "[[  93  712   44  115 2890 3381   33    0    0    0    0    0    0    0\n",
            "     0    0    0    0    0    0]]\n",
            "(1, 104, 7608)\n",
            "[[7606 2033   14   23 1296 7033 7382 1342  892 1592 3194  305    0    0\n",
            "     0    0    0    0    0    0    0    0    0    0    0    0    0    0\n",
            "     0    0    0    0    0    0    0    0    0    0    0    0    0    0\n",
            "     0    0    0    0    0    0    0    0    0    0    0    0    0    0\n",
            "     0    0    0    0    0    0    0    0    0    0    0    0    0    0\n",
            "     0    0    0    0    0    0    0    0    0    0    0    0    0    0\n",
            "     0    0    0    0    0    0    0    0    0    0    0    0    0    0\n",
            "     0    0    0    0    0    0]]\n",
            "[[2033   14   23 1296 7033 7382 1342  892 1592 3194  305 7607  305 2033\n",
            "   305  305  305  305  305  305  305  305  305   23   23   23  121  121\n",
            "   121  121  121  121  121   23   23 1364 1364  305  305  305  254 6572\n",
            "  6572 6572 6382 6382 6382 6382 6382 6382 2033 2033  305  305  305  305\n",
            "  2033  305  305  305  305  305 2033 2033 2033 2033 2033  305 2033 2033\n",
            "  2033 1364 1364 1364 1364 2033 1364 1364 1364 1364 1364 1342 1342 5770\n",
            "  5770  305  305  305  305  305  661 2033 1364 2033 2033 2033 2033 2033\n",
            "  2033 2033 2033  103  103 1364]]\n",
            "(1, 104)\n",
            "Input: 여권 발급 하는 데 며칠 걸리죠\n",
            "Output: ['신청', '은 ', '그 ', '신청 ', '당일', ' ', '포함해서 ', '평일 ', '사일 ', '소요', '됩니다']\n"
          ]
        },
        {
          "output_type": "execute_result",
          "data": {
            "text/plain": [
              "['신청', '은 ', '그 ', '신청 ', '당일', ' ', '포함해서 ', '평일 ', '사일 ', '소요', '됩니다']"
            ]
          },
          "metadata": {},
          "execution_count": 40
        }
      ]
    },
    {
      "cell_type": "code",
      "source": [
        "predict('여권 발급 하는 데 며칠 걸리나요')"
      ],
      "metadata": {
        "colab": {
          "base_uri": "https://localhost:8080/"
        },
        "outputId": "8c63122a-a794-48f0-a54d-5a5b91e46869",
        "id": "0tan9khhTmO2"
      },
      "execution_count": null,
      "outputs": [
        {
          "output_type": "stream",
          "name": "stdout",
          "text": [
            "[[  93  712   44  115 2890 5822    0    0    0    0    0    0    0    0\n",
            "     0    0    0    0    0    0]]\n",
            "(1, 104, 7608)\n",
            "[[7606   63  121   23 2034 3058 2862 2659  720    0    0    0    0    0\n",
            "     0    0    0    0    0    0    0    0    0    0    0    0    0    0\n",
            "     0    0    0    0    0    0    0    0    0    0    0    0    0    0\n",
            "     0    0    0    0    0    0    0    0    0    0    0    0    0    0\n",
            "     0    0    0    0    0    0    0    0    0    0    0    0    0    0\n",
            "     0    0    0    0    0    0    0    0    0    0    0    0    0    0\n",
            "     0    0    0    0    0    0    0    0    0    0    0    0    0    0\n",
            "     0    0    0    0    0    0]]\n",
            "[[  63  121   23 2034 3058 2862 2659  720 7607  121  121  121  121  121\n",
            "   121  121  121  121  121  121  121  121  121  121  121  121  121  121\n",
            "   121  121  121  121  121  121  121  121  121  121  121  121  121  121\n",
            "   121  121  121  121  121 1636 1636 1636  121  121  121 2033  121 1636\n",
            "  1636 2033   23  661 4321 4321 4321  720  720  720  720  720  720  720\n",
            "   720  203  103  480  480  480 5770 5770 5770  720  720  720  720  362\n",
            "   362  720  720  720  720  661  661 1466  782  782  782 1466 1466 1153\n",
            "  4321  103  121  121  121 2543]]\n",
            "(1, 104)\n",
            "Input: 여권 발급 하는 데 며칠 걸리나요\n",
            "Output: ['네 ', '선생님 ', '그 ', '시청이나 ', '중구청 ', '빼고 ', '구청 ', '가능합니다']\n"
          ]
        },
        {
          "output_type": "execute_result",
          "data": {
            "text/plain": [
              "['네 ', '선생님 ', '그 ', '시청이나 ', '중구청 ', '빼고 ', '구청 ', '가능합니다']"
            ]
          },
          "metadata": {},
          "execution_count": 56
        }
      ]
    },
    {
      "cell_type": "code",
      "source": [
        "predict('비자 발급하는데 비용은 얼마나')"
      ],
      "metadata": {
        "colab": {
          "base_uri": "https://localhost:8080/"
        },
        "id": "ZfdQ8Tlk09C-",
        "outputId": "26035fcf-6dc0-4bc2-f2e5-c6a290718445"
      },
      "execution_count": null,
      "outputs": [
        {
          "output_type": "stream",
          "name": "stdout",
          "text": [
            "[[5356 7382 6766  115 5357 3141   74    0    0    0    0    0    0    0\n",
            "     0    0    0    0    0    0]]\n",
            "(1, 104, 7608)\n",
            "[[7606  148 5745   10  532 2611  720    0    0    0    0    0    0    0\n",
            "     0    0    0    0    0    0    0    0    0    0    0    0    0    0\n",
            "     0    0    0    0    0    0    0    0    0    0    0    0    0    0\n",
            "     0    0    0    0    0    0    0    0    0    0    0    0    0    0\n",
            "     0    0    0    0    0    0    0    0    0    0    0    0    0    0\n",
            "     0    0    0    0    0    0    0    0    0    0    0    0    0    0\n",
            "     0    0    0    0    0    0    0    0    0    0    0    0    0    0\n",
            "     0    0    0    0    0    0]]\n",
            "[[ 148 5745   10  532 2611  720 7607  121  121  121  892  892  892 5745\n",
            "  5745  121  121  480    3    3  495   30   30   30    2  264    3  495\n",
            "   264  264  147 4407  495  495  495  230  230  230 4202   30   30   30\n",
            "   230 6237    2    2    2    2    2    2  230  230 3719 3719 3719  147\n",
            "   147  661  661  661 2001 2001 4846  495  495  495  495 1184 1184 1184\n",
            "    14  495  495  147  147  752  495   69 2001 2001  661  661  752  495\n",
            "   495  720  720  720  695   85   85   85   85  294 1882  695  168  168\n",
            "   264  264  661  661  661  264]]\n",
            "(1, 104)\n",
            "Input: 비자 발급하는데 비용은 얼마나\n",
            "Output: ['예 ', '근무하', '고 ', '있', '도록 ', '가능합니다']\n"
          ]
        },
        {
          "output_type": "execute_result",
          "data": {
            "text/plain": [
              "['예 ', '근무하', '고 ', '있', '도록 ', '가능합니다']"
            ]
          },
          "metadata": {},
          "execution_count": 61
        }
      ]
    },
    {
      "cell_type": "code",
      "source": [
        "predict('미성년자 여권 만들고 싶어요')"
      ],
      "metadata": {
        "colab": {
          "base_uri": "https://localhost:8080/"
        },
        "outputId": "b0d62351-0feb-4a8f-fffb-e58692c88184",
        "id": "6k-zseQiVZmu"
      },
      "execution_count": null,
      "outputs": [
        {
          "output_type": "stream",
          "name": "stdout",
          "text": [
            "[[1234   93 3808  493    0    0    0    0    0    0    0    0    0    0\n",
            "     0    0    0    0    0    0]]\n",
            "(1, 104, 7608)\n",
            "[[7606   63  194 1403 1347   10 2819 1337  117    0    0    0    0    0\n",
            "     0    0    0    0    0    0    0    0    0    0    0    0    0    0\n",
            "     0    0    0    0    0    0    0    0    0    0    0    0    0    0\n",
            "     0    0    0    0    0    0    0    0    0    0    0    0    0    0\n",
            "     0    0    0    0    0    0    0    0    0    0    0    0    0    0\n",
            "     0    0    0    0    0    0    0    0    0    0    0    0    0    0\n",
            "     0    0    0    0    0    0    0    0    0    0    0    0    0    0\n",
            "     0    0    0    0    0    0]]\n",
            "[[  63  194 1403 1347   10 2819 1337  117 7607 7382 7382 7382 7382 7382\n",
            "     3    3    3 7607 7607 7607 7607 7607 7607 7607 5311 5311 1238 7607\n",
            "  7607 7607 7607 7607 7607 7607 7607 7382 7382 7382 7382   30 7607 7607\n",
            "  7607 6577 6577  253 7382 7607 7607 7607 7607 3229 3229 7382 7382 7382\n",
            "  7607 7607 7607 7607  661  661  661 1291  203 1291 4245  720 7382 7382\n",
            "   203  203  203 7382 7382 7382  207  133  203   10 7382 7382 7382 5242\n",
            "  1484   10   10  720  720 7607 7607 7607 7607 7607 7607 7607 7607 7607\n",
            "  7607 7607 7607 7607 7607 7607]]\n",
            "(1, 104)\n",
            "Input: 미성년자 여권 만들고 싶어요\n",
            "Output: ['네 ', '그', '땐 ', '찾아가', '고 ', '앉', '혀', '봐요']\n"
          ]
        },
        {
          "output_type": "execute_result",
          "data": {
            "text/plain": [
              "['네 ', '그', '땐 ', '찾아가', '고 ', '앉', '혀', '봐요']"
            ]
          },
          "metadata": {},
          "execution_count": 63
        }
      ]
    },
    {
      "cell_type": "code",
      "source": [
        "predict('몇시까지 접수합니까')"
      ],
      "metadata": {
        "colab": {
          "base_uri": "https://localhost:8080/"
        },
        "outputId": "c252e539-4dd0-4b33-f4d8-153698cf88b7",
        "id": "xSRw94g_WVp2"
      },
      "execution_count": null,
      "outputs": [
        {
          "output_type": "stream",
          "name": "stdout",
          "text": [
            "[[3789 1204 5939    0    0    0    0    0    0    0    0    0    0    0\n",
            "     0    0    0    0    0    0]]\n",
            "(1, 104, 7608)\n",
            "[[7606   63 6268 4947 1269   76 1701  305    0    0    0    0    0    0\n",
            "     0    0    0    0    0    0    0    0    0    0    0    0    0    0\n",
            "     0    0    0    0    0    0    0    0    0    0    0    0    0    0\n",
            "     0    0    0    0    0    0    0    0    0    0    0    0    0    0\n",
            "     0    0    0    0    0    0    0    0    0    0    0    0    0    0\n",
            "     0    0    0    0    0    0    0    0    0    0    0    0    0    0\n",
            "     0    0    0    0    0    0    0    0    0    0    0    0    0    0\n",
            "     0    0    0    0    0    0]]\n",
            "[[  63 6268 4947 1269   76 1701  305 7607 1158  892  892  892  892  892\n",
            "   480  480  480  892  892  892  892 7607 7607   23   23   23   23 1204\n",
            "  1204   23   23   23   23   23   23  892  892  892  145 6485  892  892\n",
            "   892  892  145  145  145  145  892  892  892 1204 1204 1204 1269 1269\n",
            "   145 2001  661  661 1204 1204 4846  480  480  480  480  480  971  219\n",
            "  1304   37 1204  480  480 3472 3472   37   37  661  661  661  661  661\n",
            "   661  312   37   37  661  661  661  661  312  312 3472 3472 3472 3472\n",
            "  3472  892  892  661 1204 1204]]\n",
            "(1, 104)\n",
            "Input: 몇시까지 접수합니까\n",
            "Output: ['네 ', '일층 ', '종합민원실', '쪽', '으로 ', '오시면 ', '됩니다']\n"
          ]
        },
        {
          "output_type": "execute_result",
          "data": {
            "text/plain": [
              "['네 ', '일층 ', '종합민원실', '쪽', '으로 ', '오시면 ', '됩니다']"
            ]
          },
          "metadata": {},
          "execution_count": 65
        }
      ]
    },
    {
      "cell_type": "code",
      "source": [
        ""
      ],
      "metadata": {
        "id": "GpKGJ_IHTkJg"
      },
      "execution_count": null,
      "outputs": []
    },
    {
      "cell_type": "code",
      "source": [
        ""
      ],
      "metadata": {
        "id": "l0wiSjw7TMuw"
      },
      "execution_count": null,
      "outputs": []
    }
  ]
}